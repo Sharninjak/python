{
 "cells": [
  {
   "cell_type": "code",
   "execution_count": 1,
   "id": "8ff4984f-6436-417c-ba9d-02e15ae748ed",
   "metadata": {
    "tags": []
   },
   "outputs": [
    {
     "data": {
      "text/plain": [
       "{'name': 'lalala', 'value': 'haohao', 'score': 9.6}"
      ]
     },
     "execution_count": 2,
     "metadata": {},
     "output_type": "execute_result"
    }
   ],
   "source": [
    "mv={'name':'lalala','value':'haohao','score':9.6}\n",
    "mv"
   ]
  },
  {
   "cell_type": "code",
   "execution_count": 6,
   "id": "91e4df18-433a-47c6-a578-c5d859060af8",
   "metadata": {},
   "outputs": [
    {
     "data": {
      "text/plain": [
       "'lalala'"
      ]
     },
     "execution_count": 6,
     "metadata": {},
     "output_type": "execute_result"
    }
   ],
   "source": [
    "mv['name']"
   ]
  },
  {
   "cell_type": "code",
   "execution_count": 8,
   "id": "87d24e7d-ccc4-4115-9040-ca55019bc7db",
   "metadata": {},
   "outputs": [
    {
     "data": {
      "text/plain": [
       "dict_keys(['name', 'value', 'score'])"
      ]
     },
     "execution_count": 8,
     "metadata": {},
     "output_type": "execute_result"
    }
   ],
   "source": [
    "mv.keys()"
   ]
  },
  {
   "cell_type": "code",
   "execution_count": 9,
   "id": "0cd27d60-259b-45ae-98a7-b97db8ae88b6",
   "metadata": {},
   "outputs": [
    {
     "data": {
      "text/plain": [
       "dict_items([('name', 'lalala'), ('value', 'haohao'), ('score', 9.6)])"
      ]
     },
     "execution_count": 9,
     "metadata": {},
     "output_type": "execute_result"
    }
   ],
   "source": [
    "mv.items()"
   ]
  },
  {
   "cell_type": "code",
   "execution_count": 10,
   "id": "9d2aa7a7-39cd-4146-b2df-3d1701561d89",
   "metadata": {},
   "outputs": [
    {
     "data": {
      "text/plain": [
       "{'name': '垃圾', 'value': 'haohao', 'score': 9.6}"
      ]
     },
     "execution_count": 10,
     "metadata": {},
     "output_type": "execute_result"
    }
   ],
   "source": [
    "mv['name']='垃圾'\n",
    "mv"
   ]
  },
  {
   "cell_type": "code",
   "execution_count": 11,
   "id": "28eedebd-1cbb-4c66-8edb-6046b645db7b",
   "metadata": {},
   "outputs": [
    {
     "data": {
      "text/plain": [
       "{'name': '垃圾', 'value': 'haohao'}"
      ]
     },
     "execution_count": 11,
     "metadata": {},
     "output_type": "execute_result"
    }
   ],
   "source": [
    "mv.pop('score')\n",
    "mv"
   ]
  },
  {
   "cell_type": "code",
   "execution_count": 13,
   "id": "2fce68e8-cd05-4b7f-a99b-59a753fbfc7c",
   "metadata": {},
   "outputs": [
    {
     "data": {
      "text/plain": [
       "{2}"
      ]
     },
     "execution_count": 13,
     "metadata": {},
     "output_type": "execute_result"
    }
   ],
   "source": [
    "s={2,2,2,2,2}\n",
    "s"
   ]
  },
  {
   "cell_type": "code",
   "execution_count": 14,
   "id": "994c29c9-70e8-4b24-b0dc-4076f39800f1",
   "metadata": {},
   "outputs": [
    {
     "data": {
      "text/plain": [
       "3"
      ]
     },
     "execution_count": 14,
     "metadata": {},
     "output_type": "execute_result"
    }
   ],
   "source": [
    "int(3.1)"
   ]
  },
  {
   "cell_type": "code",
   "execution_count": 14,
   "id": "d17f9a27-b7ec-415e-b4bc-8a3290a755de",
   "metadata": {},
   "outputs": [
    {
     "name": "stdout",
     "output_type": "stream",
     "text": [
      "45\n"
     ]
    }
   ],
   "source": [
    "s=0\n",
    "for i in (1,2,3,4,5,6,7,8,9):\n",
    "    s=s+i\n",
    "print (s)"
   ]
  },
  {
   "cell_type": "code",
   "execution_count": 11,
   "id": "00bb0107-7800-4cfc-b582-d0e45fd3bb68",
   "metadata": {},
   "outputs": [
    {
     "name": "stdout",
     "output_type": "stream",
     "text": [
      "b\n"
     ]
    }
   ],
   "source": [
    "a=1\n",
    "b=2\n",
    "if a>b:print ('a')\n",
    "else:print ('b')"
   ]
  },
  {
   "cell_type": "code",
   "execution_count": 16,
   "id": "0bee6f68-bfb5-494e-9b17-d4edf5e70069",
   "metadata": {},
   "outputs": [
    {
     "name": "stdout",
     "output_type": "stream",
     "text": [
      "1\n",
      "2\n",
      "3\n",
      "4\n",
      "5\n",
      "6\n",
      "7\n",
      "8\n",
      "9\n"
     ]
    }
   ],
   "source": [
    "i=1\n",
    "while i<10:\n",
    "    print (i)\n",
    "    i=i+1"
   ]
  },
  {
   "cell_type": "code",
   "execution_count": 17,
   "id": "daa5c582-f33a-429f-9339-6085ecbd21ff",
   "metadata": {},
   "outputs": [
    {
     "name": "stdout",
     "output_type": "stream",
     "text": [
      "1\n",
      "3\n",
      "5\n",
      "7\n",
      "9\n"
     ]
    }
   ],
   "source": [
    "for i in[1,2,3,4,5,6,7,8,9,10]:\n",
    "    if i%2==1:\n",
    "        print (i)"
   ]
  },
  {
   "cell_type": "code",
   "execution_count": 18,
   "id": "5483ff5c-b787-4ae6-9250-dfaa4de786e5",
   "metadata": {},
   "outputs": [
    {
     "data": {
      "text/plain": [
       "['1', '2', '3', '4', '5', '6', '7', '8', '9', '10']"
      ]
     },
     "execution_count": 18,
     "metadata": {},
     "output_type": "execute_result"
    }
   ],
   "source": [
    "[str(x) for x in range(1,11)]"
   ]
  },
  {
   "cell_type": "code",
   "execution_count": 21,
   "id": "1b22052d-1416-4f36-b483-c12eac3defd0",
   "metadata": {},
   "outputs": [
    {
     "name": "stdout",
     "output_type": "stream",
     "text": [
      "45\n"
     ]
    }
   ],
   "source": [
    "x='4'\n",
    "y='5'\n",
    "print(x+y)"
   ]
  },
  {
   "cell_type": "code",
   "execution_count": null,
   "id": "221eb29a-1364-4e98-977a-808a842e82e4",
   "metadata": {},
   "outputs": [],
   "source": []
  },
  {
   "cell_type": "code",
   "execution_count": null,
   "id": "5751e7ee-d4e1-48ee-885c-20e37915bb4d",
   "metadata": {},
   "outputs": [],
   "source": []
  },
  {
   "cell_type": "code",
   "execution_count": null,
   "id": "dd18c15d-481e-40d7-bc26-ef7eda12a650",
   "metadata": {},
   "outputs": [],
   "source": []
  },
  {
   "cell_type": "code",
   "execution_count": null,
   "id": "cae592d9-705c-4cb6-b10f-9a0d25a5b257",
   "metadata": {},
   "outputs": [],
   "source": []
  },
  {
   "cell_type": "code",
   "execution_count": null,
   "id": "54f08a8e-b8cf-4707-a7bb-af28f4601485",
   "metadata": {},
   "outputs": [],
   "source": []
  },
  {
   "cell_type": "code",
   "execution_count": null,
   "id": "5211df6f-6669-49df-b6b7-45fa596fd593",
   "metadata": {},
   "outputs": [],
   "source": []
  },
  {
   "cell_type": "code",
   "execution_count": null,
   "id": "68919d47-ac69-4604-8f04-691125f543ee",
   "metadata": {},
   "outputs": [],
   "source": []
  },
  {
   "cell_type": "code",
   "execution_count": null,
   "id": "37f0aba9-c570-4922-a13a-a3ab92f29b3d",
   "metadata": {},
   "outputs": [],
   "source": []
  },
  {
   "cell_type": "code",
   "execution_count": null,
   "id": "608de776-0a74-4115-9c76-281df95c3380",
   "metadata": {},
   "outputs": [],
   "source": []
  }
 ],
 "metadata": {
  "kernelspec": {
   "display_name": "Python 3 (ipykernel)",
   "language": "python",
   "name": "python3"
  },
  "language_info": {
   "codemirror_mode": {
    "name": "ipython",
    "version": 3
   },
   "file_extension": ".py",
   "mimetype": "text/x-python",
   "name": "python",
   "nbconvert_exporter": "python",
   "pygments_lexer": "ipython3",
   "version": "3.9.7"
  }
 },
 "nbformat": 4,
 "nbformat_minor": 5
}
