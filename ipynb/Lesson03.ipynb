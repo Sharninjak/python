{
 "cells": [
  {
   "cell_type": "code",
   "execution_count": 1,
   "id": "cb87fe38-865d-4b48-be1f-c8a4f4cecdca",
   "metadata": {},
   "outputs": [],
   "source": [
    "import pandas as pd\n",
    "import numpy as np"
   ]
  },
  {
   "cell_type": "code",
   "execution_count": 2,
   "id": "47c1a6be-1148-4d4e-b501-7bc354e43b14",
   "metadata": {},
   "outputs": [
    {
     "name": "stdout",
     "output_type": "stream",
     "text": [
      "0    1.0\n",
      "1    3.0\n",
      "2    5.0\n",
      "3    NaN\n",
      "4    6.0\n",
      "5    8.0\n",
      "dtype: float64\n"
     ]
    }
   ],
   "source": [
    "s=pd.Series([1,3,5,np.nan,6,8])\n",
    "print (s)"
   ]
  },
  {
   "cell_type": "code",
   "execution_count": 3,
   "id": "abb1f124-30d5-4125-a631-e720881dddb6",
   "metadata": {},
   "outputs": [
    {
     "name": "stdout",
     "output_type": "stream",
     "text": [
      "a    1.0\n",
      "b    3.0\n",
      "c    5.0\n",
      "d    NaN\n",
      "e    6.0\n",
      "f    8.0\n",
      "dtype: float64\n"
     ]
    }
   ],
   "source": [
    "t=pd.Series([1,3,5,np.nan,6,8],index=['a','b','c','d','e','f'])\n",
    "print (t)"
   ]
  },
  {
   "cell_type": "code",
   "execution_count": 4,
   "id": "ef39a12b-1d83-4b20-86fe-971cd71b88c1",
   "metadata": {},
   "outputs": [
    {
     "data": {
      "text/plain": [
       "RangeIndex(start=0, stop=6, step=1)"
      ]
     },
     "execution_count": 4,
     "metadata": {},
     "output_type": "execute_result"
    }
   ],
   "source": [
    "s.index"
   ]
  },
  {
   "cell_type": "code",
   "execution_count": 7,
   "id": "a3aff569-f611-4dd8-a8b2-74732ee7c3d4",
   "metadata": {},
   "outputs": [
    {
     "name": "stdout",
     "output_type": "stream",
     "text": [
      "[ 1.  3.  5. nan  6.  8.]\n",
      "2    5.0\n",
      "3    NaN\n",
      "4    6.0\n",
      "dtype: float64\n"
     ]
    }
   ],
   "source": [
    "print (s.values)\n",
    "print (s[2:5])"
   ]
  },
  {
   "cell_type": "code",
   "execution_count": 17,
   "id": "7881e5c4-3d0a-4c33-96f6-e3fc6d7edc6a",
   "metadata": {},
   "outputs": [
    {
     "name": "stdout",
     "output_type": "stream",
     "text": [
      "DatetimeIndex(['2018-01-01', '2018-01-02', '2018-01-03', '2018-01-04',\n",
      "               '2018-01-05', '2018-01-06', '2018-01-07'],\n",
      "              dtype='datetime64[ns]', freq='D')\n"
     ]
    }
   ],
   "source": [
    "date=pd.date_range('20180101',periods=7)\n",
    "print (date)"
   ]
  },
  {
   "cell_type": "code",
   "execution_count": 19,
   "id": "5d7ada2b-4f55-46d5-8936-804675f08b57",
   "metadata": {},
   "outputs": [
    {
     "data": {
      "text/html": [
       "<div>\n",
       "<style scoped>\n",
       "    .dataframe tbody tr th:only-of-type {\n",
       "        vertical-align: middle;\n",
       "    }\n",
       "\n",
       "    .dataframe tbody tr th {\n",
       "        vertical-align: top;\n",
       "    }\n",
       "\n",
       "    .dataframe thead th {\n",
       "        text-align: right;\n",
       "    }\n",
       "</style>\n",
       "<table border=\"1\" class=\"dataframe\">\n",
       "  <thead>\n",
       "    <tr style=\"text-align: right;\">\n",
       "      <th></th>\n",
       "      <th>0</th>\n",
       "      <th>1</th>\n",
       "      <th>2</th>\n",
       "      <th>3</th>\n",
       "    </tr>\n",
       "  </thead>\n",
       "  <tbody>\n",
       "    <tr>\n",
       "      <th>0</th>\n",
       "      <td>-1.098374</td>\n",
       "      <td>0.699722</td>\n",
       "      <td>-2.027326</td>\n",
       "      <td>0.231748</td>\n",
       "    </tr>\n",
       "    <tr>\n",
       "      <th>1</th>\n",
       "      <td>0.713988</td>\n",
       "      <td>-0.265673</td>\n",
       "      <td>0.344668</td>\n",
       "      <td>-0.444994</td>\n",
       "    </tr>\n",
       "    <tr>\n",
       "      <th>2</th>\n",
       "      <td>1.371335</td>\n",
       "      <td>1.130194</td>\n",
       "      <td>1.396765</td>\n",
       "      <td>-1.270465</td>\n",
       "    </tr>\n",
       "    <tr>\n",
       "      <th>3</th>\n",
       "      <td>-0.266125</td>\n",
       "      <td>-1.173835</td>\n",
       "      <td>-1.365800</td>\n",
       "      <td>-1.671275</td>\n",
       "    </tr>\n",
       "    <tr>\n",
       "      <th>4</th>\n",
       "      <td>-2.313192</td>\n",
       "      <td>0.174584</td>\n",
       "      <td>0.461117</td>\n",
       "      <td>0.586928</td>\n",
       "    </tr>\n",
       "    <tr>\n",
       "      <th>5</th>\n",
       "      <td>2.670126</td>\n",
       "      <td>0.643005</td>\n",
       "      <td>0.638714</td>\n",
       "      <td>0.303203</td>\n",
       "    </tr>\n",
       "    <tr>\n",
       "      <th>6</th>\n",
       "      <td>-0.515559</td>\n",
       "      <td>-1.325858</td>\n",
       "      <td>-0.236243</td>\n",
       "      <td>-0.328133</td>\n",
       "    </tr>\n",
       "  </tbody>\n",
       "</table>\n",
       "</div>"
      ],
      "text/plain": [
       "          0         1         2         3\n",
       "0 -1.098374  0.699722 -2.027326  0.231748\n",
       "1  0.713988 -0.265673  0.344668 -0.444994\n",
       "2  1.371335  1.130194  1.396765 -1.270465\n",
       "3 -0.266125 -1.173835 -1.365800 -1.671275\n",
       "4 -2.313192  0.174584  0.461117  0.586928\n",
       "5  2.670126  0.643005  0.638714  0.303203\n",
       "6 -0.515559 -1.325858 -0.236243 -0.328133"
      ]
     },
     "execution_count": 19,
     "metadata": {},
     "output_type": "execute_result"
    }
   ],
   "source": [
    "df=pd.DataFrame(np.random.randn(7,4))\n",
    "df"
   ]
  },
  {
   "cell_type": "code",
   "execution_count": 21,
   "id": "40c0ac2f-5ac2-46f2-a34d-e2679764f327",
   "metadata": {},
   "outputs": [
    {
     "data": {
      "text/html": [
       "<div>\n",
       "<style scoped>\n",
       "    .dataframe tbody tr th:only-of-type {\n",
       "        vertical-align: middle;\n",
       "    }\n",
       "\n",
       "    .dataframe tbody tr th {\n",
       "        vertical-align: top;\n",
       "    }\n",
       "\n",
       "    .dataframe thead th {\n",
       "        text-align: right;\n",
       "    }\n",
       "</style>\n",
       "<table border=\"1\" class=\"dataframe\">\n",
       "  <thead>\n",
       "    <tr style=\"text-align: right;\">\n",
       "      <th></th>\n",
       "      <th>A</th>\n",
       "      <th>B</th>\n",
       "      <th>C</th>\n",
       "      <th>D</th>\n",
       "    </tr>\n",
       "  </thead>\n",
       "  <tbody>\n",
       "    <tr>\n",
       "      <th>2018-01-01</th>\n",
       "      <td>0.134163</td>\n",
       "      <td>-0.370009</td>\n",
       "      <td>-0.340303</td>\n",
       "      <td>-1.565537</td>\n",
       "    </tr>\n",
       "    <tr>\n",
       "      <th>2018-01-02</th>\n",
       "      <td>-1.688210</td>\n",
       "      <td>2.622805</td>\n",
       "      <td>0.672026</td>\n",
       "      <td>-0.183727</td>\n",
       "    </tr>\n",
       "    <tr>\n",
       "      <th>2018-01-03</th>\n",
       "      <td>-0.440145</td>\n",
       "      <td>0.541867</td>\n",
       "      <td>0.375950</td>\n",
       "      <td>-0.879233</td>\n",
       "    </tr>\n",
       "    <tr>\n",
       "      <th>2018-01-04</th>\n",
       "      <td>0.533939</td>\n",
       "      <td>-0.993044</td>\n",
       "      <td>-2.123737</td>\n",
       "      <td>-0.354710</td>\n",
       "    </tr>\n",
       "    <tr>\n",
       "      <th>2018-01-05</th>\n",
       "      <td>-0.661841</td>\n",
       "      <td>1.801673</td>\n",
       "      <td>1.556922</td>\n",
       "      <td>0.637988</td>\n",
       "    </tr>\n",
       "    <tr>\n",
       "      <th>2018-01-06</th>\n",
       "      <td>-0.171610</td>\n",
       "      <td>-0.192700</td>\n",
       "      <td>-0.246677</td>\n",
       "      <td>-0.679374</td>\n",
       "    </tr>\n",
       "    <tr>\n",
       "      <th>2018-01-07</th>\n",
       "      <td>0.012117</td>\n",
       "      <td>-0.607711</td>\n",
       "      <td>1.525470</td>\n",
       "      <td>0.043942</td>\n",
       "    </tr>\n",
       "  </tbody>\n",
       "</table>\n",
       "</div>"
      ],
      "text/plain": [
       "                   A         B         C         D\n",
       "2018-01-01  0.134163 -0.370009 -0.340303 -1.565537\n",
       "2018-01-02 -1.688210  2.622805  0.672026 -0.183727\n",
       "2018-01-03 -0.440145  0.541867  0.375950 -0.879233\n",
       "2018-01-04  0.533939 -0.993044 -2.123737 -0.354710\n",
       "2018-01-05 -0.661841  1.801673  1.556922  0.637988\n",
       "2018-01-06 -0.171610 -0.192700 -0.246677 -0.679374\n",
       "2018-01-07  0.012117 -0.607711  1.525470  0.043942"
      ]
     },
     "execution_count": 21,
     "metadata": {},
     "output_type": "execute_result"
    }
   ],
   "source": [
    "df=pd.DataFrame(np.random.randn(7,4),index=date,columns=list('ABCD'))\n",
    "df"
   ]
  },
  {
   "cell_type": "code",
   "execution_count": 31,
   "id": "16932047-02f7-43af-826e-34969f680ddb",
   "metadata": {},
   "outputs": [
    {
     "data": {
      "text/html": [
       "<div>\n",
       "<style scoped>\n",
       "    .dataframe tbody tr th:only-of-type {\n",
       "        vertical-align: middle;\n",
       "    }\n",
       "\n",
       "    .dataframe tbody tr th {\n",
       "        vertical-align: top;\n",
       "    }\n",
       "\n",
       "    .dataframe thead th {\n",
       "        text-align: right;\n",
       "    }\n",
       "</style>\n",
       "<table border=\"1\" class=\"dataframe\">\n",
       "  <thead>\n",
       "    <tr style=\"text-align: right;\">\n",
       "      <th></th>\n",
       "      <th>A</th>\n",
       "      <th>B</th>\n",
       "      <th>C</th>\n",
       "      <th>D</th>\n",
       "      <th>E</th>\n",
       "      <th>F</th>\n",
       "    </tr>\n",
       "  </thead>\n",
       "  <tbody>\n",
       "    <tr>\n",
       "      <th>0</th>\n",
       "      <td>1</td>\n",
       "      <td>2018-02-01</td>\n",
       "      <td>1.0</td>\n",
       "      <td>3</td>\n",
       "      <td>ha</td>\n",
       "      <td>abc</td>\n",
       "    </tr>\n",
       "    <tr>\n",
       "      <th>1</th>\n",
       "      <td>1</td>\n",
       "      <td>2018-02-01</td>\n",
       "      <td>1.0</td>\n",
       "      <td>3</td>\n",
       "      <td>haha</td>\n",
       "      <td>abc</td>\n",
       "    </tr>\n",
       "    <tr>\n",
       "      <th>2</th>\n",
       "      <td>1</td>\n",
       "      <td>2018-02-01</td>\n",
       "      <td>1.0</td>\n",
       "      <td>3</td>\n",
       "      <td>ia</td>\n",
       "      <td>abc</td>\n",
       "    </tr>\n",
       "    <tr>\n",
       "      <th>3</th>\n",
       "      <td>1</td>\n",
       "      <td>2018-02-01</td>\n",
       "      <td>1.0</td>\n",
       "      <td>3</td>\n",
       "      <td>haha</td>\n",
       "      <td>abc</td>\n",
       "    </tr>\n",
       "  </tbody>\n",
       "</table>\n",
       "</div>"
      ],
      "text/plain": [
       "   A          B    C  D     E    F\n",
       "0  1 2018-02-01  1.0  3    ha  abc\n",
       "1  1 2018-02-01  1.0  3  haha  abc\n",
       "2  1 2018-02-01  1.0  3    ia  abc\n",
       "3  1 2018-02-01  1.0  3  haha  abc"
      ]
     },
     "execution_count": 31,
     "metadata": {},
     "output_type": "execute_result"
    }
   ],
   "source": [
    "df2=pd.DataFrame({'A':1,'B':pd.Timestamp('20180201'),'C':pd.Series(1,index=list(range(4)),dtype=float),'D':np.array([3]*4,dtype=int),'E':pd.Categorical([\"ha\",\"haha\",\"ia\",\"haha\"]),'F':'abc'})\n",
    "df2"
   ]
  },
  {
   "cell_type": "code",
   "execution_count": 30,
   "id": "b9849a5d-cd33-4bf8-8763-04c02cac8c97",
   "metadata": {},
   "outputs": [
    {
     "data": {
      "text/html": [
       "<div>\n",
       "<style scoped>\n",
       "    .dataframe tbody tr th:only-of-type {\n",
       "        vertical-align: middle;\n",
       "    }\n",
       "\n",
       "    .dataframe tbody tr th {\n",
       "        vertical-align: top;\n",
       "    }\n",
       "\n",
       "    .dataframe thead th {\n",
       "        text-align: right;\n",
       "    }\n",
       "</style>\n",
       "<table border=\"1\" class=\"dataframe\">\n",
       "  <thead>\n",
       "    <tr style=\"text-align: right;\">\n",
       "      <th></th>\n",
       "      <th>A</th>\n",
       "      <th>B</th>\n",
       "      <th>C</th>\n",
       "      <th>D</th>\n",
       "      <th>E</th>\n",
       "      <th>F</th>\n",
       "    </tr>\n",
       "  </thead>\n",
       "  <tbody>\n",
       "    <tr>\n",
       "      <th>1</th>\n",
       "      <td>1</td>\n",
       "      <td>2022-02-01</td>\n",
       "      <td>1.0</td>\n",
       "      <td>3</td>\n",
       "      <td>haha</td>\n",
       "      <td>abc</td>\n",
       "    </tr>\n",
       "  </tbody>\n",
       "</table>\n",
       "</div>"
      ],
      "text/plain": [
       "   A          B    C  D     E    F\n",
       "1  1 2022-02-01  1.0  3  haha  abc"
      ]
     },
     "execution_count": 30,
     "metadata": {},
     "output_type": "execute_result"
    }
   ],
   "source": [
    "df2[(df2['E']=='haha')&(df2[])]"
   ]
  },
  {
   "cell_type": "code",
   "execution_count": null,
   "id": "1abf10a0-001a-44af-834b-994aad86ca1b",
   "metadata": {},
   "outputs": [],
   "source": []
  },
  {
   "cell_type": "code",
   "execution_count": null,
   "id": "d5c530b5-86e3-415c-99ec-318fbe9ba4f8",
   "metadata": {},
   "outputs": [],
   "source": []
  },
  {
   "cell_type": "code",
   "execution_count": null,
   "id": "76431eb6-e9f3-48e9-857f-cbc008782b0f",
   "metadata": {},
   "outputs": [],
   "source": []
  },
  {
   "cell_type": "code",
   "execution_count": null,
   "id": "6a19ff14-201e-4b2b-bc0c-a9131e268214",
   "metadata": {},
   "outputs": [],
   "source": []
  },
  {
   "cell_type": "code",
   "execution_count": null,
   "id": "d4e802df-c63e-469f-9850-4c0f13c1e37b",
   "metadata": {},
   "outputs": [],
   "source": []
  },
  {
   "cell_type": "code",
   "execution_count": null,
   "id": "bffffbc0-a237-4808-94c4-1c268241b517",
   "metadata": {},
   "outputs": [],
   "source": []
  },
  {
   "cell_type": "code",
   "execution_count": null,
   "id": "91ff3b70-3c3c-47d9-91b6-dc0158229130",
   "metadata": {},
   "outputs": [],
   "source": []
  },
  {
   "cell_type": "code",
   "execution_count": null,
   "id": "36bdb158-8172-47ea-a06f-af751aa03851",
   "metadata": {},
   "outputs": [],
   "source": []
  },
  {
   "cell_type": "code",
   "execution_count": null,
   "id": "7866a81e-1966-46ad-bcca-fd8c94506a34",
   "metadata": {},
   "outputs": [],
   "source": []
  }
 ],
 "metadata": {
  "kernelspec": {
   "display_name": "Python 3 (ipykernel)",
   "language": "python",
   "name": "python3"
  },
  "language_info": {
   "codemirror_mode": {
    "name": "ipython",
    "version": 3
   },
   "file_extension": ".py",
   "mimetype": "text/x-python",
   "name": "python",
   "nbconvert_exporter": "python",
   "pygments_lexer": "ipython3",
   "version": "3.9.7"
  }
 },
 "nbformat": 4,
 "nbformat_minor": 5
}
