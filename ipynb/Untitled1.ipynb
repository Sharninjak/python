{
 "cells": [
  {
   "cell_type": "code",
   "execution_count": 1,
   "id": "17c2c829-c05a-4fe0-a508-a2360a86d227",
   "metadata": {},
   "outputs": [],
   "source": [
    "import math\n",
    "import numpy as np\n",
    "import sympy as sp"
   ]
  },
  {
   "cell_type": "code",
   "execution_count": 2,
   "id": "aeaca0a8-7a6b-4b74-a4da-df39f4e254ea",
   "metadata": {},
   "outputs": [
    {
     "data": {
      "text/latex": [
       "$\\displaystyle \\left[\\begin{matrix}147227.0 & 5.339 & 171 & 0.76 & 1.2\\\\209366.0 & 6.951 & 172 & 0.93 & 6.94\\\\31084.0 & 7.064 & 168 & 0.93 & 4.74\\\\50577.0 & 5.94 & 167 & 0.92 & 4.0\\\\26229.8 & 3.819 & 159 & 0.65 & 0.21\\\\14835.0 & 5.477 & 170 & 0.82 & 1.16\\\\818.0 & 4.275 & 0 & 0.49 & 0.08\\end{matrix}\\right]$"
      ],
      "text/plain": [
       "Matrix([\n",
       "[147227.0, 5.339, 171, 0.76,  1.2],\n",
       "[209366.0, 6.951, 172, 0.93, 6.94],\n",
       "[ 31084.0, 7.064, 168, 0.93, 4.74],\n",
       "[ 50577.0,  5.94, 167, 0.92,  4.0],\n",
       "[ 26229.8, 3.819, 159, 0.65, 0.21],\n",
       "[ 14835.0, 5.477, 170, 0.82, 1.16],\n",
       "[   818.0, 4.275,   0, 0.49, 0.08]])"
      ]
     },
     "execution_count": 2,
     "metadata": {},
     "output_type": "execute_result"
    }
   ],
   "source": [
    "a = [[147227.00, 5.339, 171, 0.76, 1.20], [209366.00, 6.951, 172, 0.93, 6.94],\n",
    "             [31084.00, 7.064, 168, 0.93, 4.74], [50577.00, 5.94, 167, 0.92, 4.00],\n",
    "             [26229.80, 3.819, 159, 0.65,0.21], [14835.00, 5.477, 170, 0.82, 1.16],\n",
    "             [818.00, 4.275, 0, 0.49, 0.08]]\n",
    "b=sp.Matrix(a)\n",
    "b"
   ]
  },
  {
   "cell_type": "code",
   "execution_count": 21,
   "id": "29cc29dd-f027-4d3e-b854-d33f28ce0834",
   "metadata": {},
   "outputs": [
    {
     "data": {
      "text/latex": [
       "$\\displaystyle \\left[\\begin{matrix}69942908227.04 & 2946272.6262 & 81547728.2 & 411656.75 & 2002100.898\\\\2946272.6262 & 224.862933 & 5825.584 & 31.62463 & 119.38741\\\\81547728.2 & 5825.584 & 169119 & 842.55 & 3093.79\\\\411656.75 & 31.62463 & 842.55 & 4.4888 & 16.5813\\\\2002100.898 & 119.38741 & 3093.79 & 16.5813 & 89.4673\\end{matrix}\\right]$"
      ],
      "text/plain": [
       "Matrix([\n",
       "[69942908227.04, 2946272.6262, 81547728.2, 411656.75, 2002100.898],\n",
       "[  2946272.6262,   224.862933,   5825.584,  31.62463,   119.38741],\n",
       "[    81547728.2,     5825.584,     169119,    842.55,     3093.79],\n",
       "[     411656.75,     31.62463,     842.55,    4.4888,     16.5813],\n",
       "[   2002100.898,    119.38741,    3093.79,   16.5813,     89.4673]])"
      ]
     },
     "execution_count": 21,
     "metadata": {},
     "output_type": "execute_result"
    }
   ],
   "source": [
    "c=b.T@b\n",
    "c"
   ]
  },
  {
   "cell_type": "code",
   "execution_count": 16,
   "id": "f08375fe-5fcd-43ad-81d9-670497178e6a",
   "metadata": {},
   "outputs": [
    {
     "data": {
      "text/latex": [
       "$\\displaystyle 69942908227.04$"
      ],
      "text/plain": [
       "69942908227.0400"
      ]
     },
     "execution_count": 16,
     "metadata": {},
     "output_type": "execute_result"
    }
   ],
   "source": [
    "c[0,0]"
   ]
  },
  {
   "cell_type": "code",
   "execution_count": 28,
   "id": "c97e4095-39fa-4074-8a94-794081d1e2e8",
   "metadata": {},
   "outputs": [
    {
     "name": "stdout",
     "output_type": "stream",
     "text": [
      "264467.21578872495\n",
      "14.995430403959736\n",
      "411.2408053683389\n",
      "2.118678833613061\n",
      "9.458715557621977\n"
     ]
    }
   ],
   "source": [
    "import math\n",
    "d = np.empty(10)\n",
    "for i in range(5):\n",
    "    d[i]=math.sqrt(c[i,i])\n",
    "    print(d[i])"
   ]
  },
  {
   "cell_type": "code",
   "execution_count": 23,
   "id": "c956e224-1894-4d79-9787-42811d8dfc48",
   "metadata": {},
   "outputs": [
    {
     "name": "stdout",
     "output_type": "stream",
     "text": [
      "264467.21578872495\n",
      "14.995430403959736\n",
      "411.2408053683389\n",
      "2.118678833613061\n",
      "9.458715557621977\n"
     ]
    }
   ],
   "source": [
    "for i in range(5):\n",
    "    print(d[i])"
   ]
  },
  {
   "cell_type": "code",
   "execution_count": 26,
   "id": "2576b321-dc29-45ba-b582-71c7e1c5a38b",
   "metadata": {},
   "outputs": [
    {
     "name": "stdout",
     "output_type": "stream",
     "text": [
      "Matrix([[0.556692819414015], [0.791651998814312], [0.117534416911743], [0.191241095230512], [0.0991797789445260], [0.0560939092422376], [0.00309301097136167]])\n",
      "Matrix([[0.356041797812630], [0.463541213072784], [0.471076842058142], [0.396120674097588], [0.254677584912237], [0.365244601352271], [0.285086848782355]])\n",
      "Matrix([[0.415814767814296], [0.418246433123152], [0.408519771887730], [0.406088106578874], [0.386634784108030], [0.413383102505441], [0]])\n",
      "Matrix([[0.358714113693176], [0.438952797019281], [0.438952797019281], [0.434232874470686], [0.306794965658637], [0.387033648984742], [0.231276204881126]])\n",
      "Matrix([[0.126867119820833], [0.733714842963815], [0.501125123292288], [0.422890399402775], [0.0222017459686457], [0.122638215826805], [0.00845780798805550]])\n"
     ]
    }
   ],
   "source": [
    "for i in range(5):\n",
    "    print(b[:,i]/d[i])"
   ]
  },
  {
   "cell_type": "code",
   "execution_count": null,
   "id": "7513ed4d-7713-4168-8250-5d6ed76dee99",
   "metadata": {},
   "outputs": [],
   "source": []
  },
  {
   "cell_type": "code",
   "execution_count": null,
   "id": "d7eadff1-e33b-4bf0-aa67-5c4bd84d28fe",
   "metadata": {},
   "outputs": [],
   "source": []
  },
  {
   "cell_type": "code",
   "execution_count": null,
   "id": "81fda9c0-de84-497d-bb6b-ae63357082c1",
   "metadata": {},
   "outputs": [],
   "source": []
  },
  {
   "cell_type": "code",
   "execution_count": null,
   "id": "604df086-2ac5-490c-8228-f6b679bfc33c",
   "metadata": {},
   "outputs": [],
   "source": []
  },
  {
   "cell_type": "code",
   "execution_count": null,
   "id": "196e2228-ea1b-4fc4-9a7e-b6062ce34068",
   "metadata": {},
   "outputs": [],
   "source": []
  },
  {
   "cell_type": "code",
   "execution_count": null,
   "id": "c17b89ac-4b4a-4723-89f1-d8423b951a9b",
   "metadata": {},
   "outputs": [],
   "source": []
  },
  {
   "cell_type": "code",
   "execution_count": null,
   "id": "4cbd67aa-c273-4cf6-aa8a-e051daf0ca70",
   "metadata": {},
   "outputs": [],
   "source": []
  },
  {
   "cell_type": "code",
   "execution_count": null,
   "id": "c06a03d7-2717-46ac-be06-d80d7dd7fcb5",
   "metadata": {},
   "outputs": [],
   "source": []
  }
 ],
 "metadata": {
  "kernelspec": {
   "display_name": "Python 3 (ipykernel)",
   "language": "python",
   "name": "python3"
  },
  "language_info": {
   "codemirror_mode": {
    "name": "ipython",
    "version": 3
   },
   "file_extension": ".py",
   "mimetype": "text/x-python",
   "name": "python",
   "nbconvert_exporter": "python",
   "pygments_lexer": "ipython3",
   "version": "3.9.7"
  }
 },
 "nbformat": 4,
 "nbformat_minor": 5
}
