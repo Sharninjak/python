{
 "cells": [
  {
   "cell_type": "code",
   "execution_count": 41,
   "id": "29cce235-f2fc-43b2-86c1-7ba6704dd767",
   "metadata": {},
   "outputs": [
    {
     "name": "stdout",
     "output_type": "stream",
     "text": [
      "264467.21578872495\n",
      "14.995430403959736\n",
      "411.2408053683389\n",
      "2.118678833613061\n",
      "9.458715557621977\n",
      "Matrix([[0.556692819414015, 0.356041797812630, 0.415814767814296, 0.358714113693176, 0.126867119820833], [0.791651998814312, 0.463541213072784, 0.418246433123152, 0.438952797019281, 0.733714842963815], [0.117534416911743, 0.471076842058142, 0.408519771887730, 0.438952797019281, 0.501125123292288], [0.191241095230512, 0.396120674097588, 0.406088106578874, 0.434232874470686, 0.422890399402775], [0.0991797789445260, 0.254677584912237, 0.386634784108030, 0.306794965658637, 0.0222017459686457], [0.0560939092422376, 0.365244601352271, 0.413383102505441, 0.387033648984742, 0.122638215826805], [0.00309301097136167, 0.285086848782355, 0, 0.231276204881126, 0.00845780798805550]])\n"
     ]
    }
   ],
   "source": [
    "import math\n",
    "import numpy as np\n",
    "import sympy as sp\n",
    "\n",
    "a = [[147227.00, 5.339, 171, 0.76, 1.20], [209366.00, 6.951, 172, 0.93, 6.94],\n",
    "     [31084.00, 7.064, 168, 0.93, 4.74], [50577.00, 5.94, 167, 0.92, 4.00],\n",
    "     [26229.80, 3.819, 159, 0.65, 0.21], [14835.00, 5.477, 170, 0.82, 1.16],\n",
    "     [818.00, 4.275, 0, 0.49, 0.08]]\n",
    "b = sp.Matrix(a)\n",
    "e = sp.Matrix(a)\n",
    "c = b.T @ b\n",
    "d = np.empty(10)\n",
    "for i in range(5):\n",
    "    d[i] = math.sqrt(c[i, i])\n",
    "    print(d[i])\n",
    "for i in range(5):\n",
    "    e[:, i] = b[:, i] / d[i]\n",
    "print(e)\n"
   ]
  },
  {
   "cell_type": "code",
   "execution_count": 2,
   "id": "faaae339-93c0-4a13-9dfe-1026f139c38a",
   "metadata": {},
   "outputs": [
    {
     "data": {
      "text/plain": [
       "array([[0.55669282, 0.3560418 , 0.41581477, 0.35871411, 0.12686712],\n",
       "       [0.791652  , 0.46354121, 0.41824643, 0.4389528 , 0.73371484],\n",
       "       [0.11753442, 0.47107684, 0.40851977, 0.4389528 , 0.50112512],\n",
       "       [0.1912411 , 0.39612067, 0.40608811, 0.43423287, 0.4228904 ],\n",
       "       [0.09917978, 0.25467758, 0.38663478, 0.30679497, 0.02220175],\n",
       "       [0.05609391, 0.3652446 , 0.4133831 , 0.38703365, 0.12263822],\n",
       "       [0.00309301, 0.28508685, 0.        , 0.2312762 , 0.00845781]])"
      ]
     },
     "execution_count": 2,
     "metadata": {},
     "output_type": "execute_result"
    }
   ],
   "source": [
    "f=np.array([[0.556692819414015, 0.356041797812630, 0.415814767814296, 0.358714113693176, 0.126867119820833], \n",
    "            [0.791651998814312, 0.463541213072784, 0.418246433123152, 0.438952797019281, 0.733714842963815], \n",
    "            [0.117534416911743, 0.471076842058142, 0.408519771887730, 0.438952797019281, 0.501125123292288], \n",
    "            [0.191241095230512, 0.396120674097588, 0.406088106578874, 0.434232874470686, 0.422890399402775], \n",
    "            [0.0991797789445260, 0.254677584912237, 0.386634784108030, 0.306794965658637, 0.0222017459686457], \n",
    "            [0.0560939092422376, 0.365244601352271, 0.413383102505441, 0.387033648984742, 0.122638215826805], \n",
    "            [0.00309301097136167, 0.285086848782355, 0, 0.231276204881126, 0.00845780798805550]])\n",
    "f"
   ]
  },
  {
   "cell_type": "code",
   "execution_count": 7,
   "id": "0fd3449e-ae71-47d7-9c74-7edc724b8d3e",
   "metadata": {},
   "outputs": [
    {
     "data": {
      "text/plain": [
       "array([0.791652  , 0.47107684, 0.41824643, 0.4389528 , 0.73371484])"
      ]
     },
     "execution_count": 7,
     "metadata": {},
     "output_type": "execute_result"
    }
   ],
   "source": [
    "max=np.max(f,axis=0)\n",
    "max"
   ]
  },
  {
   "cell_type": "code",
   "execution_count": 8,
   "id": "bd3d9c78-1486-4a08-8aff-a11a764c8b22",
   "metadata": {},
   "outputs": [
    {
     "data": {
      "text/plain": [
       "array([0.00309301, 0.25467758, 0.        , 0.2312762 , 0.00845781])"
      ]
     },
     "execution_count": 8,
     "metadata": {},
     "output_type": "execute_result"
    }
   ],
   "source": [
    "min=np.min(f,axis=0)\n",
    "min"
   ]
  },
  {
   "cell_type": "code",
   "execution_count": 23,
   "id": "a4f90a60-e37f-4821-b7b6-e19679c905e2",
   "metadata": {},
   "outputs": [
    {
     "name": "stdout",
     "output_type": "stream",
     "text": [
      "0.126867119820833\n",
      "0.733714842963815\n",
      "0.501125123292288\n",
      "0.422890399402775\n",
      "0.0222017459686457\n",
      "0.122638215826805\n",
      "0.0084578079880555\n"
     ]
    }
   ],
   "source": [
    "for i in range(7):\n",
    "    print (f[i,4])"
   ]
  },
  {
   "cell_type": "code",
   "execution_count": 34,
   "id": "dc040a47-1113-427b-b1b5-ecfd372a4c20",
   "metadata": {},
   "outputs": [],
   "source": [
    "maxdistance = np.empty(7,dtype=float)\n",
    "mindistance = np.empty(7,dtype=float)"
   ]
  },
  {
   "cell_type": "code",
   "execution_count": 38,
   "id": "d50e6e2a-8d56-44dc-88fc-db95e9c0136a",
   "metadata": {},
   "outputs": [
    {
     "name": "stdout",
     "output_type": "stream",
     "text": [
      "0.6656930191694445\n"
     ]
    }
   ],
   "source": [
    "for i in range(7):\n",
    "    x = 0\n",
    "    y = 0\n",
    "    for j in range(5):\n",
    "        x = x+math.pow(f[i,j] - max[j],2)\n",
    "    maxdistance[i] = math.sqrt(x)\n",
    "    for k in range(5):\n",
    "        y = y+math.pow(f[i,k] - min[k],2)\n",
    "    mindistance[i] = math.sqrt(y)\n",
    "print (maxdistance[0])"
   ]
  },
  {
   "cell_type": "code",
   "execution_count": 40,
   "id": "614cd797-078b-40d6-b865-8e044b18b779",
   "metadata": {},
   "outputs": [
    {
     "name": "stdout",
     "output_type": "stream",
     "text": [
      "0.519958740134133\n",
      "0.993692778709041\n",
      "0.5009883181743418\n",
      "0.49173061180193556\n",
      "0.28353670136553194\n",
      "0.3290140511621533\n",
      "0.025052409512221693\n"
     ]
    }
   ],
   "source": [
    "point = np.empty(7,dtype=float)\n",
    "for i in range(7):\n",
    "    point[i]=mindistance[i]/(maxdistance[i]+mindistance[i])\n",
    "    print(point[i])"
   ]
  },
  {
   "cell_type": "code",
   "execution_count": 42,
   "id": "fff3e948-358e-4b65-97b6-df3a8d0bb4ec",
   "metadata": {},
   "outputs": [
    {
     "ename": "TypeError",
     "evalue": "Field elements must be 2- or 3-tuples, got '1'",
     "output_type": "error",
     "traceback": [
      "\u001b[1;31m---------------------------------------------------------------------------\u001b[0m",
      "\u001b[1;31mTypeError\u001b[0m                                 Traceback (most recent call last)",
      "\u001b[1;32m~\\AppData\\Local\\Temp/ipykernel_42356/3630783978.py\u001b[0m in \u001b[0;36m<module>\u001b[1;34m\u001b[0m\n\u001b[1;32m----> 1\u001b[1;33m \u001b[0mA\u001b[0m\u001b[1;33m=\u001b[0m\u001b[0mnp\u001b[0m\u001b[1;33m.\u001b[0m\u001b[0marray\u001b[0m\u001b[1;33m(\u001b[0m\u001b[1;33m[\u001b[0m\u001b[1;36m1\u001b[0m\u001b[1;33m,\u001b[0m\u001b[1;36m1\u001b[0m\u001b[1;33m]\u001b[0m\u001b[1;33m,\u001b[0m\u001b[1;33m[\u001b[0m\u001b[1;36m1\u001b[0m\u001b[1;33m,\u001b[0m\u001b[1;36m1\u001b[0m\u001b[1;33m]\u001b[0m\u001b[1;33m)\u001b[0m\u001b[1;33m\u001b[0m\u001b[1;33m\u001b[0m\u001b[0m\n\u001b[0m\u001b[0;32m      2\u001b[0m \u001b[0mpingfanghe\u001b[0m \u001b[1;33m=\u001b[0m \u001b[0mnp\u001b[0m\u001b[1;33m.\u001b[0m\u001b[0mempty\u001b[0m\u001b[1;33m(\u001b[0m\u001b[0mA\u001b[0m\u001b[1;33m.\u001b[0m\u001b[0mshape\u001b[0m\u001b[1;33m[\u001b[0m\u001b[1;36m0\u001b[0m\u001b[1;33m]\u001b[0m\u001b[1;33m,\u001b[0m \u001b[0mdtype\u001b[0m\u001b[1;33m=\u001b[0m\u001b[0mfloat\u001b[0m\u001b[1;33m)\u001b[0m\u001b[1;33m\u001b[0m\u001b[1;33m\u001b[0m\u001b[0m\n\u001b[0;32m      3\u001b[0m \u001b[1;31m# OMEGA = np.empty(A.shape[0], dtype=float)\u001b[0m\u001b[1;33m\u001b[0m\u001b[1;33m\u001b[0m\u001b[0m\n\u001b[0;32m      4\u001b[0m \u001b[0mx\u001b[0m \u001b[1;33m=\u001b[0m \u001b[1;36m1\u001b[0m\u001b[1;33m\u001b[0m\u001b[1;33m\u001b[0m\u001b[0m\n\u001b[0;32m      5\u001b[0m \u001b[1;32mfor\u001b[0m \u001b[0mi\u001b[0m \u001b[1;32min\u001b[0m \u001b[0mrange\u001b[0m\u001b[1;33m(\u001b[0m\u001b[0mA\u001b[0m\u001b[1;33m.\u001b[0m\u001b[0mshape\u001b[0m\u001b[1;33m[\u001b[0m\u001b[1;36m0\u001b[0m\u001b[1;33m]\u001b[0m\u001b[1;33m)\u001b[0m\u001b[1;33m:\u001b[0m\u001b[1;33m\u001b[0m\u001b[1;33m\u001b[0m\u001b[0m\n",
      "\u001b[1;31mTypeError\u001b[0m: Field elements must be 2- or 3-tuples, got '1'"
     ]
    }
   ],
   "source": [
    "A=np.array([1,1],[1,1])\n",
    "pingfanghe = np.empty(A.shape[0], dtype=float)\n",
    "# OMEGA = np.empty(A.shape[0], dtype=float)\n",
    "x = 1\n",
    "for i in range(A.shape[0]):\n",
    "    for j in range(A.shape[1]):\n",
    "        x = x * A[i, j]\n",
    "    pingfanghe[i] = math.pow(x, 1/A.shape[0])\n",
    "OMEGA = pingfanghe/np.sum(pingfanghe)\n",
    "print(OMEGA)"
   ]
  },
  {
   "cell_type": "code",
   "execution_count": null,
   "id": "c4a32cb6-514c-41af-bb33-01954d0d6e98",
   "metadata": {},
   "outputs": [],
   "source": []
  },
  {
   "cell_type": "code",
   "execution_count": null,
   "id": "32ec6421-5b57-4a14-9e2e-f1bd4e427a0e",
   "metadata": {},
   "outputs": [],
   "source": []
  },
  {
   "cell_type": "code",
   "execution_count": null,
   "id": "938fdba9-6bad-4941-9061-dbe67efa3d98",
   "metadata": {},
   "outputs": [],
   "source": []
  },
  {
   "cell_type": "code",
   "execution_count": null,
   "id": "7fadd9c0-f387-4fea-87b8-b5da35562263",
   "metadata": {},
   "outputs": [],
   "source": []
  },
  {
   "cell_type": "code",
   "execution_count": null,
   "id": "385d78a6-f1d0-44d7-9b71-8e7359917b10",
   "metadata": {},
   "outputs": [],
   "source": []
  },
  {
   "cell_type": "code",
   "execution_count": null,
   "id": "6b546f81-3cfe-4290-9338-1ae61086a9b1",
   "metadata": {},
   "outputs": [],
   "source": []
  },
  {
   "cell_type": "code",
   "execution_count": null,
   "id": "880d514b-2120-4ae7-85a9-4f4d664d537e",
   "metadata": {},
   "outputs": [],
   "source": []
  }
 ],
 "metadata": {
  "kernelspec": {
   "display_name": "Python 3 (ipykernel)",
   "language": "python",
   "name": "python3"
  },
  "language_info": {
   "codemirror_mode": {
    "name": "ipython",
    "version": 3
   },
   "file_extension": ".py",
   "mimetype": "text/x-python",
   "name": "python",
   "nbconvert_exporter": "python",
   "pygments_lexer": "ipython3",
   "version": "3.9.7"
  }
 },
 "nbformat": 4,
 "nbformat_minor": 5
}
