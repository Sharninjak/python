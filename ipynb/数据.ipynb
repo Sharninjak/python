{
 "cells": [
  {
   "cell_type": "code",
   "execution_count": 1,
   "id": "628a37d5-8eb8-477d-9810-8d811e497d73",
   "metadata": {
    "jupyter": {
     "source_hidden": true
    },
    "tags": []
   },
   "outputs": [],
   "source": [
    "import numpy as np\n",
    "import sympy as sp\n",
    "import xlrd\n",
    "import pandas as pd\n",
    "import matplotlib.pyplot as plt\n",
    "import seaborn as sns"
   ]
  },
  {
   "cell_type": "code",
   "execution_count": 32,
   "id": "5dca90e2-9e79-488d-ab42-1d70c2dd18b0",
   "metadata": {
    "collapsed": true,
    "jupyter": {
     "outputs_hidden": true,
     "source_hidden": true
    },
    "tags": []
   },
   "outputs": [
    {
     "data": {
      "text/plain": [
       "list"
      ]
     },
     "execution_count": 32,
     "metadata": {},
     "output_type": "execute_result"
    }
   ],
   "source": [
    "A=[[1,4,2,3,1],[1/4,1,1/2,1/2,1/4],[1/2,2,1,1/2,1/2],[1/3,2,2,1,1/3],[1,4,2,3,1]]\n",
    "type(A)"
   ]
  },
  {
   "cell_type": "code",
   "execution_count": 12,
   "id": "b9bad845-d569-47ef-8714-39407540ea37",
   "metadata": {
    "collapsed": true,
    "jupyter": {
     "outputs_hidden": true,
     "source_hidden": true
    },
    "tags": []
   },
   "outputs": [
    {
     "data": {
      "text/plain": [
       "[[1, 4, 2, 3, 1],\n",
       " [0.25, 1, 0.5, 0.5, 0.25],\n",
       " [0.5, 2, 1, 0.5, 0.5],\n",
       " [0.3333333333333333, 2, 2, 1, 0.3333333333333333],\n",
       " [1, 4, 2, 3, 1]]"
      ]
     },
     "execution_count": 12,
     "metadata": {},
     "output_type": "execute_result"
    }
   ],
   "source": [
    "B=A\n",
    "B"
   ]
  },
  {
   "cell_type": "code",
   "execution_count": 33,
   "id": "4a251fd9-e1d4-438d-8ba0-6128c860acdc",
   "metadata": {
    "collapsed": true,
    "jupyter": {
     "outputs_hidden": true,
     "source_hidden": true
    },
    "tags": []
   },
   "outputs": [
    {
     "data": {
      "text/plain": [
       "list"
      ]
     },
     "execution_count": 33,
     "metadata": {},
     "output_type": "execute_result"
    }
   ],
   "source": [
    "type(B)"
   ]
  },
  {
   "cell_type": "code",
   "execution_count": null,
   "id": "b75ac6c7-5e01-45a5-904d-3a9cd9b9594a",
   "metadata": {
    "collapsed": true,
    "jupyter": {
     "outputs_hidden": true,
     "source_hidden": true
    },
    "tags": []
   },
   "outputs": [
    {
     "data": {
      "text/latex": [
       "$\\displaystyle \\left[\\begin{matrix}1 & 4 & 2 & 3 & 1\\\\0.25 & 1 & 0.5 & 0.5 & 0.25\\\\0.5 & 2 & 1 & 0.5 & 0.5\\\\0.333333333333333 & 2 & 2 & 1 & 0.333333333333333\\\\1 & 4 & 2 & 3 & 1\\end{matrix}\\right]$"
      ],
      "text/plain": [
       "Matrix([\n",
       "[                1, 4,   2,   3,                 1],\n",
       "[             0.25, 1, 0.5, 0.5,              0.25],\n",
       "[              0.5, 2,   1, 0.5,               0.5],\n",
       "[0.333333333333333, 2,   2,   1, 0.333333333333333],\n",
       "[                1, 4,   2,   3,                 1]])"
      ]
     },
     "execution_count": 7,
     "metadata": {},
     "output_type": "execute_result"
    }
   ],
   "source": [
    "A=sp.Matrix(A)\n",
    "A"
   ]
  },
  {
   "cell_type": "code",
   "execution_count": 8,
   "id": "2dbe5cfe-96b2-41ca-b4d9-3a78d4ada170",
   "metadata": {
    "collapsed": true,
    "jupyter": {
     "outputs_hidden": true,
     "source_hidden": true
    },
    "tags": []
   },
   "outputs": [
    {
     "data": {
      "text/plain": [
       "(Matrix([\n",
       " [1, 0, -6.0, 0, 1.0],\n",
       " [0, 1,  2.0, 0,   0],\n",
       " [0, 0,    0, 1,   0],\n",
       " [0, 0,    0, 0,   0],\n",
       " [0, 0,    0, 0,   0]]),\n",
       " (0, 1, 3))"
      ]
     },
     "execution_count": 8,
     "metadata": {},
     "output_type": "execute_result"
    }
   ],
   "source": [
    "A.rref()"
   ]
  },
  {
   "cell_type": "code",
   "execution_count": 13,
   "id": "ac953a10-9fe9-45e1-bb23-babacedc4a5e",
   "metadata": {
    "collapsed": true,
    "jupyter": {
     "outputs_hidden": true,
     "source_hidden": true
    },
    "tags": []
   },
   "outputs": [
    {
     "data": {
      "text/plain": [
       "(array([ 5.13284690e+00+0.j       , -6.64234498e-02+0.8230861j,\n",
       "        -6.64234498e-02-0.8230861j,  1.52339079e-16+0.j       ,\n",
       "        -1.55256336e-16+0.j       ]),\n",
       " array([[ 6.40377785e-01+0.00000000e+00j,  5.66607193e-01+0.00000000e+00j,\n",
       "          5.66607193e-01-0.00000000e+00j,  2.81319888e-01+0.00000000e+00j,\n",
       "         -5.51192374e-01+0.00000000e+00j],\n",
       "        [ 1.45466717e-01+0.00000000e+00j,  1.11930447e-02-6.42473785e-02j,\n",
       "          1.11930447e-02+6.42473785e-02j, -3.80495743e-01+0.00000000e+00j,\n",
       "         -9.22616988e-02+0.00000000e+00j],\n",
       "        [ 2.61677975e-01+0.00000000e+00j, -2.38531418e-01-2.56989514e-01j,\n",
       "         -2.38531418e-01+2.56989514e-01j,  1.90247872e-01+0.00000000e+00j,\n",
       "          4.61308494e-02+0.00000000e+00j],\n",
       "        [ 3.00327580e-01+0.00000000e+00j, -2.46186578e-01+4.12445015e-01j,\n",
       "         -2.46186578e-01-4.12445015e-01j, -1.21572375e-16+0.00000000e+00j,\n",
       "         -1.92511366e-17+0.00000000e+00j],\n",
       "        [ 6.40377785e-01+0.00000000e+00j,  5.66607193e-01-2.22044605e-16j,\n",
       "          5.66607193e-01+2.22044605e-16j,  8.60167343e-01+0.00000000e+00j,\n",
       "          8.27977470e-01+0.00000000e+00j]]))"
      ]
     },
     "execution_count": 13,
     "metadata": {},
     "output_type": "execute_result"
    }
   ],
   "source": [
    "np.linalg.eig(B)"
   ]
  },
  {
   "cell_type": "code",
   "execution_count": 18,
   "id": "64685848-cff4-4f43-95b2-6d14975d2d52",
   "metadata": {
    "jupyter": {
     "source_hidden": true
    },
    "tags": []
   },
   "outputs": [],
   "source": [
    "b=np.sum(B,axis=0)"
   ]
  },
  {
   "cell_type": "code",
   "execution_count": 16,
   "id": "70c754be-5e6b-4f65-8ea4-d28c70cd000a",
   "metadata": {
    "collapsed": true,
    "jupyter": {
     "outputs_hidden": true,
     "source_hidden": true
    },
    "tags": []
   },
   "outputs": [
    {
     "data": {
      "text/plain": [
       "array([11.        ,  2.5       ,  4.5       ,  5.66666667, 11.        ])"
      ]
     },
     "execution_count": 16,
     "metadata": {},
     "output_type": "execute_result"
    }
   ],
   "source": [
    "np.sum(B,axis=1)"
   ]
  },
  {
   "cell_type": "code",
   "execution_count": 22,
   "id": "c26794a9-2f13-4787-a34e-a9e8763df7a7",
   "metadata": {
    "jupyter": {
     "source_hidden": true
    },
    "tags": []
   },
   "outputs": [
    {
     "data": {
      "text/plain": [
       "array([[0.32432432, 0.30769231, 0.26666667, 0.375     , 0.32432432],\n",
       "       [0.08108108, 0.07692308, 0.06666667, 0.0625    , 0.08108108],\n",
       "       [0.16216216, 0.15384615, 0.13333333, 0.0625    , 0.16216216],\n",
       "       [0.10810811, 0.15384615, 0.26666667, 0.125     , 0.10810811],\n",
       "       [0.32432432, 0.30769231, 0.26666667, 0.375     , 0.32432432]])"
      ]
     },
     "execution_count": 22,
     "metadata": {},
     "output_type": "execute_result"
    }
   ],
   "source": [
    "c=B/b\n",
    "c"
   ]
  },
  {
   "cell_type": "code",
   "execution_count": 23,
   "id": "f709b968-cae4-4504-ba7a-4a5b5f3fa836",
   "metadata": {},
   "outputs": [
    {
     "data": {
      "text/plain": [
       "array([1.59800762, 0.36825191, 0.67400381, 0.76172904, 1.59800762])"
      ]
     },
     "execution_count": 23,
     "metadata": {},
     "output_type": "execute_result"
    }
   ],
   "source": [
    "d=np.sum(c,axis=1)\n",
    "d"
   ]
  },
  {
   "cell_type": "code",
   "execution_count": 24,
   "id": "20962585-8229-4a01-9b3a-0b7000b78dad",
   "metadata": {},
   "outputs": [
    {
     "data": {
      "text/plain": [
       "array([0.31960152, 0.07365038, 0.13480076, 0.15234581, 0.31960152])"
      ]
     },
     "execution_count": 24,
     "metadata": {},
     "output_type": "execute_result"
    }
   ],
   "source": [
    "d/5"
   ]
  },
  {
   "cell_type": "code",
   "execution_count": 27,
   "id": "b373ed2f-bb7c-4a67-a927-6f93179bf748",
   "metadata": {},
   "outputs": [
    {
     "name": "stdout",
     "output_type": "stream",
     "text": [
      "[13.          7.5         3.08333333]\n"
     ]
    }
   ],
   "source": [
    "A=np.diag((1,2,3))\n",
    "#求矩阵特征值以及特征向量\n",
    "eig_value,eig_vector=np.linalg.eig(A)\n",
    "#这里将特征值从小到大排列，但是sorted_indices表示的是所在下标的索引\n",
    "sorted_indices=np.argsort(A)\n",
    "#这样我们就能求得最小特征值所对应的特征向量\n",
    "print(b[sorted_indices[0]])\n"
   ]
  },
  {
   "cell_type": "code",
   "execution_count": 28,
   "id": "bd6c22d2-890b-4727-9bab-5b6387b49d91",
   "metadata": {},
   "outputs": [
    {
     "data": {
      "text/plain": [
       "(array([1., 2., 3.]),\n",
       " array([[1., 0., 0.],\n",
       "        [0., 1., 0.],\n",
       "        [0., 0., 1.]]))"
      ]
     },
     "execution_count": 28,
     "metadata": {},
     "output_type": "execute_result"
    }
   ],
   "source": [
    "C=np.diag((1,2,3))\n",
    "np.linalg.eig(C)"
   ]
  },
  {
   "cell_type": "code",
   "execution_count": 31,
   "id": "11593b54-da21-45b8-b609-0d0b57ed264b",
   "metadata": {},
   "outputs": [
    {
     "data": {
      "text/plain": [
       "array([1, 2, 0], dtype=int64)"
      ]
     },
     "execution_count": 31,
     "metadata": {},
     "output_type": "execute_result"
    }
   ],
   "source": [
    "eig_value,eig_vector=np.linalg.eig(C)\n",
    "sorted_indices=np.argsort(C)\n",
    "sorted_indices[0]"
   ]
  },
  {
   "cell_type": "code",
   "execution_count": 73,
   "id": "feaec816-cb05-4581-8acd-df5cbcc2950a",
   "metadata": {},
   "outputs": [
    {
     "data": {
      "text/latex": [
       "$\\displaystyle \\left[\\begin{matrix}147227.0 & 5.339 & 171.0 & 0.76 & 1.2\\\\209366.0 & 6.951 & 172.0 & 0.93 & 6.94\\\\31084.0 & 7.064 & 168.0 & 0.93 & 4.74\\\\50577.0 & 5.94 & 167.0 & 0.92 & 4.0\\\\26229.8 & 3.819 & 159.0 & 0.65 & 0.21\\\\14835.0 & 5.477 & 170.0 & 0.82 & 1.16\\\\818.0 & 4.275 & 0 & 0.49 & 0.08\\end{matrix}\\right]$"
      ],
      "text/plain": [
       "Matrix([\n",
       "[147227.0, 5.339, 171.0, 0.76,  1.2],\n",
       "[209366.0, 6.951, 172.0, 0.93, 6.94],\n",
       "[ 31084.0, 7.064, 168.0, 0.93, 4.74],\n",
       "[ 50577.0,  5.94, 167.0, 0.92,  4.0],\n",
       "[ 26229.8, 3.819, 159.0, 0.65, 0.21],\n",
       "[ 14835.0, 5.477, 170.0, 0.82, 1.16],\n",
       "[   818.0, 4.275,     0, 0.49, 0.08]])"
      ]
     },
     "execution_count": 73,
     "metadata": {},
     "output_type": "execute_result"
    }
   ],
   "source": [
    "import numpy as np\n",
    "import sympy as sp\n",
    "a = np.array([[147227.00, 5.339, 171, 0.76, 1.20], \n",
    "              [209366.00, 6.951, 172, 0.93, 6.94],\n",
    "             [31084.00, 7.064, 168, 0.93, 4.74], \n",
    "              [50577.00, 5.94, 167, 0.92, 4.00],\n",
    "             [26229.80, 3.819, 159, 0.65,0.21], \n",
    "              [14835.00, 5.477, 170, 0.82, 1.16],\n",
    "             [818.00, 4.275, 0, 0.49, 0.08]])\n",
    "b=sp.Matrix(a)\n",
    "b"
   ]
  },
  {
   "cell_type": "code",
   "execution_count": 83,
   "id": "9f6f78e7-9b2c-45bc-a4da-9bd2d381790f",
   "metadata": {},
   "outputs": [
    {
     "data": {
      "text/latex": [
       "$\\displaystyle \\left[\\begin{matrix}69942908227.04 & 2946272.6262 & 81547728.2 & 411656.75 & 2002100.898\\\\2946272.6262 & 224.862933 & 5825.584 & 31.62463 & 119.38741\\\\81547728.2 & 5825.584 & 169119.0 & 842.55 & 3093.79\\\\411656.75 & 31.62463 & 842.55 & 4.4888 & 16.5813\\\\2002100.898 & 119.38741 & 3093.79 & 16.5813 & 89.4673\\end{matrix}\\right]$"
      ],
      "text/plain": [
       "Matrix([\n",
       "[69942908227.04, 2946272.6262, 81547728.2, 411656.75, 2002100.898],\n",
       "[  2946272.6262,   224.862933,   5825.584,  31.62463,   119.38741],\n",
       "[    81547728.2,     5825.584,   169119.0,    842.55,     3093.79],\n",
       "[     411656.75,     31.62463,     842.55,    4.4888,     16.5813],\n",
       "[   2002100.898,    119.38741,    3093.79,   16.5813,     89.4673]])"
      ]
     },
     "execution_count": 83,
     "metadata": {},
     "output_type": "execute_result"
    }
   ],
   "source": [
    "c=b.T@b\n",
    "c"
   ]
  },
  {
   "cell_type": "code",
   "execution_count": 76,
   "id": "6be2b56f-0d3c-4677-9042-2776abd88857",
   "metadata": {
    "tags": []
   },
   "outputs": [
    {
     "name": "stdout",
     "output_type": "stream",
     "text": [
      "514.2637609133321\n",
      "3.8723933689592713\n",
      "20.27907308947672\n",
      "1.4555682167500983\n",
      "3.07550248863856\n"
     ]
    }
   ],
   "source": [
    "import math\n",
    "d = np.empty(a.shape[1])\n",
    "for i in range(a.shape[1]):\n",
    "    d[i]=math.sqrt(c[i,i])\n",
    "    print(d[i])"
   ]
  },
  {
   "cell_type": "code",
   "execution_count": 84,
   "id": "c59f023f-9978-4fcb-b575-7d765449de67",
   "metadata": {
    "tags": []
   },
   "outputs": [
    {
     "data": {
      "text/latex": [
       "$\\displaystyle \\left[\\begin{matrix}3978058.38316764 & 2810139.15906144 & 3001473.1463525 & 2827027.87582309 & 2548209.06345128\\\\167.57159255813 & 214.473069404886 & 214.418406542695 & 217.180237109172 & 151.952421842415\\\\4638.09172391365 & 5556.41103176393 & 6224.65086695068 & 5786.16125394456 & 3937.67553188268\\\\23.4133041767336 & 30.1634038763242 & 31.0111790393113 & 30.8265629775163 & 21.1041406484623\\\\113.871076612701 & 113.871076612701 & 113.871076612701 & 113.871076612701 & 113.871076612701\\end{matrix}\\right]$"
      ],
      "text/plain": [
       "Matrix([\n",
       "[3978058.38316764, 2810139.15906144,  3001473.1463525, 2827027.87582309, 2548209.06345128],\n",
       "[ 167.57159255813, 214.473069404886, 214.418406542695, 217.180237109172, 151.952421842415],\n",
       "[4638.09172391365, 5556.41103176393, 6224.65086695068, 5786.16125394456, 3937.67553188268],\n",
       "[23.4133041767336, 30.1634038763242, 31.0111790393113, 30.8265629775163, 21.1041406484623],\n",
       "[113.871076612701, 113.871076612701, 113.871076612701, 113.871076612701, 113.871076612701]])"
      ]
     },
     "execution_count": 84,
     "metadata": {},
     "output_type": "execute_result"
    }
   ],
   "source": [
    "for i in range(a.shape[1]):\n",
    "    c[:,i]=c[:,i]/d[i]\n",
    "c"
   ]
  },
  {
   "cell_type": "code",
   "execution_count": null,
   "id": "b876436e-9aca-4e9a-97b8-d5bfab71934b",
   "metadata": {},
   "outputs": [],
   "source": []
  },
  {
   "cell_type": "code",
   "execution_count": null,
   "id": "dbcbe8d7-7653-47ef-86d5-7c0cf1aea52b",
   "metadata": {},
   "outputs": [],
   "source": []
  },
  {
   "cell_type": "code",
   "execution_count": null,
   "id": "4528a331-be72-4a21-8f67-25e5c8122744",
   "metadata": {},
   "outputs": [],
   "source": []
  },
  {
   "cell_type": "code",
   "execution_count": null,
   "id": "ab001bec-2db9-471d-8db5-dbbb99fded05",
   "metadata": {},
   "outputs": [],
   "source": []
  },
  {
   "cell_type": "code",
   "execution_count": null,
   "id": "cc9729cc-0864-4760-aadf-398f639b2786",
   "metadata": {},
   "outputs": [],
   "source": []
  },
  {
   "cell_type": "code",
   "execution_count": null,
   "id": "693cdc40-30c6-4e25-aa98-4754df1ca087",
   "metadata": {},
   "outputs": [],
   "source": []
  },
  {
   "cell_type": "code",
   "execution_count": null,
   "id": "b07694aa-6d7d-4fe8-b4e1-b6605ed5ef40",
   "metadata": {},
   "outputs": [],
   "source": []
  }
 ],
 "metadata": {
  "kernelspec": {
   "display_name": "Python 3 (ipykernel)",
   "language": "python",
   "name": "python3"
  },
  "language_info": {
   "codemirror_mode": {
    "name": "ipython",
    "version": 3
   },
   "file_extension": ".py",
   "mimetype": "text/x-python",
   "name": "python",
   "nbconvert_exporter": "python",
   "pygments_lexer": "ipython3",
   "version": "3.9.7"
  }
 },
 "nbformat": 4,
 "nbformat_minor": 5
}
