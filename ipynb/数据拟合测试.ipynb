{
 "cells": [
  {
   "cell_type": "code",
   "execution_count": 2,
   "id": "102bc627-f865-49b1-aa6c-5b6fd50056c3",
   "metadata": {},
   "outputs": [],
   "source": [
    "import numpy as np\n",
    "import pandas as pd\n",
    "import matplotlib.pyplot as plt"
   ]
  },
  {
   "cell_type": "code",
   "execution_count": 3,
   "id": "7349126c-77f7-46c8-8bab-d35937eabeba",
   "metadata": {},
   "outputs": [],
   "source": [
    "plt.rcParams['font.sans-serif']=['SimHei']\n",
    "plt.rcParams['axes.unicode_minus']=False"
   ]
  },
  {
   "cell_type": "code",
   "execution_count": 6,
   "id": "390acecc-298a-4952-b5d5-a2d3f88dea90",
   "metadata": {},
   "outputs": [
    {
     "data": {
      "text/plain": [
       "array([10, 20, 30, 40, 50, 60, 70, 80])"
      ]
     },
     "execution_count": 6,
     "metadata": {},
     "output_type": "execute_result"
    }
   ],
   "source": [
    "x=np.arange(10,90,10)\n",
    "x"
   ]
  },
  {
   "cell_type": "markdown",
   "id": "aa81e7a1-5e9f-437f-a2a7-89d7955dc2b4",
   "metadata": {},
   "source": [
    "b=np.arange(3,8,0.5)\n",
    "b\n",
    "->array([3. , 3.5, 4. , 4.5, 5. , 5.5, 6. , 6.5, 7. , 7.5])"
   ]
  },
  {
   "cell_type": "code",
   "execution_count": 9,
   "id": "21f3f769-38b8-41b2-8baa-79aef81ae023",
   "metadata": {},
   "outputs": [
    {
     "data": {
      "text/plain": [
       "array([174, 236, 305, 334, 349, 351, 342, 323])"
      ]
     },
     "execution_count": 9,
     "metadata": {},
     "output_type": "execute_result"
    }
   ],
   "source": [
    "num=[174,236,305,334,349,351,342,323]\n",
    "y=np.array(num)\n",
    "y"
   ]
  },
  {
   "cell_type": "code",
   "execution_count": 10,
   "id": "b4d03b26-a3bb-454e-9343-93dc61932172",
   "metadata": {},
   "outputs": [
    {
     "data": {
      "text/plain": [
       "array([ 3.68686869e-04, -1.28701299e-01,  1.10570707e+01,  7.26428571e+01])"
      ]
     },
     "execution_count": 10,
     "metadata": {},
     "output_type": "execute_result"
    }
   ],
   "source": [
    "f1=np.polyfit(x,y,3)\n",
    "f1"
   ]
  },
  {
   "cell_type": "code",
   "execution_count": 11,
   "id": "8ab16ff5-7fbf-4f7a-9110-cc55ddc201ec",
   "metadata": {},
   "outputs": [
    {
     "data": {
      "text/plain": [
       "poly1d([ 3.68686869e-04, -1.28701299e-01,  1.10570707e+01,  7.26428571e+01])"
      ]
     },
     "execution_count": 11,
     "metadata": {},
     "output_type": "execute_result"
    }
   ],
   "source": [
    "p1=np.poly1d(f1)\n",
    "p1"
   ]
  },
  {
   "cell_type": "code",
   "execution_count": 14,
   "id": "afff871e-fa2a-42df-a636-f0c8771740c9",
   "metadata": {},
   "outputs": [
    {
     "data": {
      "text/plain": [
       "array([170.71212121, 245.25324675, 298.47835498, 332.5995671 ,\n",
       "       349.82900433, 352.37878788, 342.46103896, 322.28787879])"
      ]
     },
     "execution_count": 14,
     "metadata": {},
     "output_type": "execute_result"
    }
   ],
   "source": [
    "yvals=np.polyval(f1,x)\n",
    "yvals"
   ]
  },
  {
   "cell_type": "code",
   "execution_count": 25,
   "id": "a216708a-4ab9-446c-8002-7f97818a4a78",
   "metadata": {},
   "outputs": [
    {
     "data": {
      "image/png": "[encoded data removed]",
      "text/plain": [
       "<Figure size 432x288 with 1 Axes>"
      ]
     },
     "metadata": {
      "needs_background": "light"
     },
     "output_type": "display_data"
    }
   ],
   "source": [
    "plot1=plt.plot(x,y,'<',label='original values')\n",
    "plot2=plt.plot(x,yvals,'r--',label='polyfit values',)\n",
    "plt.xlabel('x')\n",
    "plt.ylabel('y')\n",
    "plt.legend(loc=4)\n",
    "plt.title('polyfitting')\n",
    "plt.show()"
   ]
  },
  {
   "cell_type": "code",
   "execution_count": null,
   "id": "c3c00baa-7ba3-4c95-a320-053a5c1de5d2",
   "metadata": {},
   "outputs": [],
   "source": []
  },
  {
   "cell_type": "code",
   "execution_count": null,
   "id": "0e2599f7-6c8a-4f5f-b932-a82ae6d871dd",
   "metadata": {},
   "outputs": [],
   "source": []
  },
  {
   "cell_type": "code",
   "execution_count": null,
   "id": "c1271f15-e72b-4f0c-af43-b462268bfa00",
   "metadata": {},
   "outputs": [],
   "source": []
  },
  {
   "cell_type": "code",
   "execution_count": null,
   "id": "d714b07e-764f-4fa2-84d8-fcbceb3c5892",
   "metadata": {},
   "outputs": [],
   "source": []
  },
  {
   "cell_type": "code",
   "execution_count": null,
   "id": "53ea68e0-8487-4551-816b-f5b3507fa455",
   "metadata": {},
   "outputs": [],
   "source": []
  },
  {
   "cell_type": "code",
   "execution_count": null,
   "id": "c6c9fc58-ff20-4a55-b613-b542a18da8b4",
   "metadata": {},
   "outputs": [],
   "source": []
  },
  {
   "cell_type": "code",
   "execution_count": null,
   "id": "de51407b-65f3-47f8-8096-726a8d8ea4a4",
   "metadata": {},
   "outputs": [],
   "source": []
  },
  {
   "cell_type": "code",
   "execution_count": null,
   "id": "a6d2be7d-9a90-4c2b-8f7e-22486c4fef99",
   "metadata": {},
   "outputs": [],
   "source": []
  },
  {
   "cell_type": "code",
   "execution_count": null,
   "id": "0184b875-64be-48a8-9ad1-bb330bcb733b",
   "metadata": {},
   "outputs": [],
   "source": []
  }
 ],
 "metadata": {
  "kernelspec": {
   "display_name": "Python 3 (ipykernel)",
   "language": "python",
   "name": "python3"
  },
  "language_info": {
   "codemirror_mode": {
    "name": "ipython",
    "version": 3
   },
   "file_extension": ".py",
   "mimetype": "text/x-python",
   "name": "python",
   "nbconvert_exporter": "python",
   "pygments_lexer": "ipython3",
   "version": "3.9.7"
  }
 },
 "nbformat": 4,
 "nbformat_minor": 5
}
