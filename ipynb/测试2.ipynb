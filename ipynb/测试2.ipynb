{
 "cells": [
  {
   "cell_type": "code",
   "execution_count": 21,
   "id": "56772412-8031-4167-ae37-ada85ae07532",
   "metadata": {},
   "outputs": [],
   "source": [
    "import numpy as np\n",
    "import pandas as pd\n",
    "np.set_printoptions(suppress=True)"
   ]
  },
  {
   "cell_type": "code",
   "execution_count": 2,
   "id": "e73c3988-cdd5-4e75-96a3-100d0c849a0a",
   "metadata": {},
   "outputs": [
    {
     "data": {
      "text/plain": [
       "1.00000001"
      ]
     },
     "execution_count": 2,
     "metadata": {},
     "output_type": "execute_result"
    }
   ],
   "source": [
    "a=np.array([0.14755893, 0.18763014, 0.15956194, 0.14089971, 0.13242327, 0.11927418, 0.11265184])\n",
    "np.sum(a)"
   ]
  },
  {
   "cell_type": "code",
   "execution_count": 24,
   "id": "ffdde8ca-5506-4d9b-9800-8f3fb7896701",
   "metadata": {},
   "outputs": [],
   "source": [
    "b=np.array([4358945768,2118592432,493505520,7896810,922238143,1511173360,372605])\n",
    "c=np.array([0.14755893, 0.18763014, 0.15956194, 0.14089971, 0.13242327, 0.11927418, 0.11265184])"
   ]
  },
  {
   "cell_type": "code",
   "execution_count": 11,
   "id": "e8c1d437-f053-4537-abcc-0c3bb5d5d665",
   "metadata": {},
   "outputs": [
    {
     "data": {
      "text/plain": [
       "array([4.37370166e+09, 2.13735545e+09, 5.09461714e+08, 2.19867810e+07,\n",
       "       9.35480470e+08, 1.52310078e+09, 1.16377890e+07])"
      ]
     },
     "execution_count": 11,
     "metadata": {},
     "output_type": "execute_result"
    }
   ],
   "source": [
    "d=b+100000000*c\n",
    "d"
   ]
  },
  {
   "cell_type": "code",
   "execution_count": 12,
   "id": "464d9118-fc50-4f03-b99d-28e9a7757a25",
   "metadata": {},
   "outputs": [
    {
     "data": {
      "text/plain": [
       "array([4.50650470e+09, 2.30622257e+09, 6.53067460e+08, 1.48796520e+08,\n",
       "       1.05466141e+09, 1.63044754e+09, 1.13024445e+08])"
      ]
     },
     "execution_count": 12,
     "metadata": {},
     "output_type": "execute_result"
    }
   ],
   "source": [
    "e=b+1000000000*c\n",
    "e"
   ]
  },
  {
   "cell_type": "code",
   "execution_count": 25,
   "id": "c6091a4e-efdc-4dde-b2e4-07a654b9e603",
   "metadata": {},
   "outputs": [
    {
     "data": {
      "text/plain": [
       "array([5.83453507e+09, 3.99489383e+09, 2.08912492e+09, 1.41689391e+09,\n",
       "       2.24647084e+09, 2.70391516e+09, 1.12689100e+09])"
      ]
     },
     "execution_count": 25,
     "metadata": {},
     "output_type": "execute_result"
    }
   ],
   "source": [
    "f=b+10000000000*c\n",
    "f"
   ]
  },
  {
   "cell_type": "code",
   "execution_count": 13,
   "id": "5e3d13a6-1ba4-4352-8a78-8f68bc9f41c3",
   "metadata": {},
   "outputs": [
    {
     "data": {
      "text/plain": [
       "array([14755893., 18763014., 15956194., 14089971., 13242327., 11927418.,\n",
       "       11265184.])"
      ]
     },
     "execution_count": 13,
     "metadata": {},
     "output_type": "execute_result"
    }
   ],
   "source": [
    "100000000*c"
   ]
  },
  {
   "cell_type": "code",
   "execution_count": 14,
   "id": "763ebade-1529-43ec-ae6c-854a3383af43",
   "metadata": {},
   "outputs": [
    {
     "data": {
      "text/plain": [
       "array([1.4755893e+08, 1.8763014e+08, 1.5956194e+08, 1.4089971e+08,\n",
       "       1.3242327e+08, 1.1927418e+08, 1.1265184e+08])"
      ]
     },
     "execution_count": 14,
     "metadata": {},
     "output_type": "execute_result"
    }
   ],
   "source": [
    "1000000000*c"
   ]
  },
  {
   "cell_type": "code",
   "execution_count": 15,
   "id": "28622279-ec53-4546-bebf-9ef389481dea",
   "metadata": {},
   "outputs": [
    {
     "data": {
      "text/plain": [
       "array([1.4755893e+09, 1.8763014e+09, 1.5956194e+09, 1.4089971e+09,\n",
       "       1.3242327e+09, 1.1927418e+09, 1.1265184e+09])"
      ]
     },
     "execution_count": 15,
     "metadata": {},
     "output_type": "execute_result"
    }
   ],
   "source": [
    "10000000000*c"
   ]
  },
  {
   "cell_type": "code",
   "execution_count": 18,
   "id": "5f2002fb-e41a-4e44-91c5-6e4d5654074e",
   "metadata": {},
   "outputs": [
    {
     "data": {
      "text/plain": [
       "array([1.47558269e+09, 1.87363119e+09, 1.60874915e+09, 1.41800461e+09,\n",
       "       9.32588888e+08, 1.52140785e+09, 1.15450389e+07])"
      ]
     },
     "execution_count": 18,
     "metadata": {},
     "output_type": "execute_result"
    }
   ],
   "source": [
    "c=np.array([1490345193,1895064414,1611575594,1423087071,935480470,1523100780,11637789])\n",
    "d=np.array([14762504.03,21433226,2826441.791,5082465.811,2891582.351,1692930.151,92750.11782])\n",
    "a1=c-d\n",
    "a1"
   ]
  },
  {
   "cell_type": "code",
   "execution_count": 26,
   "id": "61d2c2bc-955a-4bbc-b01e-6822105dd024",
   "metadata": {},
   "outputs": [
    {
     "data": {
      "text/plain": [
       "array([0, 1, 2])"
      ]
     },
     "execution_count": 26,
     "metadata": {},
     "output_type": "execute_result"
    }
   ],
   "source": [
    "a = np.arange(3)\n",
    "a"
   ]
  },
  {
   "cell_type": "code",
   "execution_count": 27,
   "id": "0ca3fdc8-53f2-42e2-a402-ddfa2475fc90",
   "metadata": {},
   "outputs": [
    {
     "data": {
      "text/plain": [
       "array([3. , 3.5, 4. , 4.5, 5. , 5.5, 6. , 6.5, 7. , 7.5])"
      ]
     },
     "execution_count": 27,
     "metadata": {},
     "output_type": "execute_result"
    }
   ],
   "source": [
    "b=np.arange(3,8,0.5)\n",
    "b"
   ]
  },
  {
   "cell_type": "code",
   "execution_count": null,
   "id": "a9e4b4b2-b253-4fea-8bbf-0197ff6f549a",
   "metadata": {},
   "outputs": [],
   "source": []
  },
  {
   "cell_type": "code",
   "execution_count": null,
   "id": "0fdec826-f9f4-412a-8c90-adcef70eb0c5",
   "metadata": {},
   "outputs": [],
   "source": []
  },
  {
   "cell_type": "code",
   "execution_count": null,
   "id": "ed636860-6594-4e34-a3c5-5d4cf9e41e8d",
   "metadata": {},
   "outputs": [],
   "source": []
  },
  {
   "cell_type": "code",
   "execution_count": null,
   "id": "e31eab5d-69e6-4bb9-abe3-9675fa1cb173",
   "metadata": {},
   "outputs": [],
   "source": []
  },
  {
   "cell_type": "code",
   "execution_count": null,
   "id": "f38fcd32-c8b2-4307-964c-710ad0dfe104",
   "metadata": {},
   "outputs": [],
   "source": []
  },
  {
   "cell_type": "code",
   "execution_count": null,
   "id": "a86ed126-5715-4f4d-a471-655541bb7bc6",
   "metadata": {},
   "outputs": [],
   "source": []
  },
  {
   "cell_type": "code",
   "execution_count": null,
   "id": "3b66aa9d-173b-48ed-b648-b6cd30600419",
   "metadata": {},
   "outputs": [],
   "source": []
  },
  {
   "cell_type": "code",
   "execution_count": null,
   "id": "302ed880-142e-41ed-9a05-67b0c7444b43",
   "metadata": {},
   "outputs": [],
   "source": []
  },
  {
   "cell_type": "code",
   "execution_count": null,
   "id": "7ab129e9-1bdc-462f-b1bf-38638117806e",
   "metadata": {},
   "outputs": [],
   "source": []
  },
  {
   "cell_type": "code",
   "execution_count": null,
   "id": "ebf2f852-a694-462f-b969-0b8a4922575e",
   "metadata": {},
   "outputs": [],
   "source": []
  },
  {
   "cell_type": "code",
   "execution_count": null,
   "id": "d96cd4e2-3539-4432-9104-5822a1c95dc1",
   "metadata": {},
   "outputs": [],
   "source": []
  },
  {
   "cell_type": "code",
   "execution_count": null,
   "id": "cda3b815-7b3e-42eb-a805-131bfded2d7b",
   "metadata": {},
   "outputs": [],
   "source": []
  },
  {
   "cell_type": "code",
   "execution_count": null,
   "id": "1cdb2a30-2039-461c-aeca-c50636498336",
   "metadata": {},
   "outputs": [],
   "source": []
  },
  {
   "cell_type": "code",
   "execution_count": null,
   "id": "24972b93-acb1-4eaa-a191-dab8d21b4e25",
   "metadata": {},
   "outputs": [],
   "source": []
  },
  {
   "cell_type": "code",
   "execution_count": null,
   "id": "06df4ee6-0576-4611-a07a-104721b9c0cb",
   "metadata": {},
   "outputs": [],
   "source": []
  },
  {
   "cell_type": "code",
   "execution_count": null,
   "id": "5da614b1-c36c-4932-bca5-f640459c97c8",
   "metadata": {},
   "outputs": [],
   "source": []
  },
  {
   "cell_type": "code",
   "execution_count": null,
   "id": "c3b5d853-91ed-45ee-95bd-fda6834ca3e2",
   "metadata": {},
   "outputs": [],
   "source": []
  },
  {
   "cell_type": "code",
   "execution_count": null,
   "id": "3ce7b950-d11c-4326-b734-a31027369418",
   "metadata": {},
   "outputs": [],
   "source": []
  },
  {
   "cell_type": "code",
   "execution_count": null,
   "id": "9d198c04-a96a-4794-821f-c684a79e1be1",
   "metadata": {},
   "outputs": [],
   "source": []
  },
  {
   "cell_type": "code",
   "execution_count": null,
   "id": "9ea5102e-812c-4aad-aa99-17034f9fdc65",
   "metadata": {},
   "outputs": [],
   "source": []
  },
  {
   "cell_type": "code",
   "execution_count": null,
   "id": "ee57e2aa-37d8-4491-bff5-32d1e1afc67b",
   "metadata": {},
   "outputs": [],
   "source": []
  },
  {
   "cell_type": "code",
   "execution_count": null,
   "id": "e62b3d7b-de7d-4530-ba12-fe83551f070e",
   "metadata": {},
   "outputs": [],
   "source": []
  },
  {
   "cell_type": "code",
   "execution_count": null,
   "id": "9750c39d-ca6f-4391-9e02-0464a5cfa31c",
   "metadata": {},
   "outputs": [],
   "source": []
  },
  {
   "cell_type": "code",
   "execution_count": null,
   "id": "1e6a9088-7b8c-48f8-a9f4-f4819a19e841",
   "metadata": {},
   "outputs": [],
   "source": []
  },
  {
   "cell_type": "code",
   "execution_count": null,
   "id": "6df1baa1-8736-49ca-b56f-11a32668a23d",
   "metadata": {},
   "outputs": [],
   "source": []
  }
 ],
 "metadata": {
  "kernelspec": {
   "display_name": "Python 3 (ipykernel)",
   "language": "python",
   "name": "python3"
  },
  "language_info": {
   "codemirror_mode": {
    "name": "ipython",
    "version": 3
   },
   "file_extension": ".py",
   "mimetype": "text/x-python",
   "name": "python",
   "nbconvert_exporter": "python",
   "pygments_lexer": "ipython3",
   "version": "3.9.7"
  }
 },
 "nbformat": 4,
 "nbformat_minor": 5
}
