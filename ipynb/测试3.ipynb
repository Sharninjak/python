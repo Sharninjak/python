{
 "cells": [
  {
   "cell_type": "code",
   "execution_count": 1,
   "id": "86062a0f-70eb-4df3-8be1-bab85dafdb13",
   "metadata": {},
   "outputs": [],
   "source": [
    "import numpy as np\n",
    "import pandas as pd"
   ]
  },
  {
   "cell_type": "markdown",
   "id": "c6344e73-6805-4e4f-9b25-19a9f014067b",
   "metadata": {},
   "source": [
    "s=pd.Series([1,3,5,np.nan,6,8])\n",
    "print (s)"
   ]
  },
  {
   "cell_type": "code",
   "execution_count": 3,
   "id": "794dc35b-8a4c-40e6-96f7-0e7f6582dd49",
   "metadata": {},
   "outputs": [],
   "source": [
    "dfbeishu=pd.Series([0.14755893, 0.18763014, 0.15956194, 0.14089971, 0.13242327, 0.11927418, 0.11265184])\n",
    "dfyuankuangliang=pd.Series([4358945768,2118592432,493505520,7896810,922238143,1511173360,372605])"
   ]
  },
  {
   "cell_type": "code",
   "execution_count": 5,
   "id": "f50e2c38-0bd0-4ee3-bfa3-f24412eadb59",
   "metadata": {},
   "outputs": [
    {
     "data": {
      "text/plain": [
       "0    4.373702e+09\n",
       "1    2.137355e+09\n",
       "2    5.094617e+08\n",
       "3    2.198678e+07\n",
       "4    9.354805e+08\n",
       "5    1.523101e+09\n",
       "6    1.163779e+07\n",
       "dtype: float64"
      ]
     },
     "execution_count": 5,
     "metadata": {},
     "output_type": "execute_result"
    }
   ],
   "source": [
    "df1E08=dfbeishu*100000000+dfyuankuangliang\n",
    "df1E08"
   ]
  },
  {
   "cell_type": "code",
   "execution_count": 6,
   "id": "3e453ab6-f3b4-4ffb-a262-c6ee426447fc",
   "metadata": {},
   "outputs": [
    {
     "data": {
      "text/plain": [
       "0    4.506505e+09\n",
       "1    2.306223e+09\n",
       "2    6.530675e+08\n",
       "3    1.487965e+08\n",
       "4    1.054661e+09\n",
       "5    1.630448e+09\n",
       "6    1.130244e+08\n",
       "dtype: float64"
      ]
     },
     "execution_count": 6,
     "metadata": {},
     "output_type": "execute_result"
    }
   ],
   "source": [
    "df1E09=dfbeishu*1000000000+dfyuankuangliang\n",
    "df1E09"
   ]
  },
  {
   "cell_type": "code",
   "execution_count": 7,
   "id": "cc620ae5-ffc8-4024-b060-b4a3f525f1d0",
   "metadata": {},
   "outputs": [
    {
     "data": {
      "text/plain": [
       "0    5.834535e+09\n",
       "1    3.994894e+09\n",
       "2    2.089125e+09\n",
       "3    1.416894e+09\n",
       "4    2.246471e+09\n",
       "5    2.703915e+09\n",
       "6    1.126891e+09\n",
       "dtype: float64"
      ]
     },
     "execution_count": 7,
     "metadata": {},
     "output_type": "execute_result"
    }
   ],
   "source": [
    "df1E010=dfbeishu*10000000000+dfyuankuangliang\n",
    "df1E010"
   ]
  },
  {
   "cell_type": "code",
   "execution_count": null,
   "id": "d0c3cee7-8500-48ae-be6f-80b5257fd1b6",
   "metadata": {},
   "outputs": [],
   "source": []
  },
  {
   "cell_type": "code",
   "execution_count": null,
   "id": "4e8d454f-98fc-49ad-9e90-2d1c292b364a",
   "metadata": {},
   "outputs": [],
   "source": []
  },
  {
   "cell_type": "code",
   "execution_count": null,
   "id": "bd75b3ca-1eb9-4e50-b089-f0f766d92610",
   "metadata": {},
   "outputs": [],
   "source": []
  },
  {
   "cell_type": "code",
   "execution_count": null,
   "id": "eae54ecf-3340-45f9-a3cc-de33e3b64bf7",
   "metadata": {},
   "outputs": [],
   "source": []
  },
  {
   "cell_type": "code",
   "execution_count": null,
   "id": "a9e10f9a-59d2-4b55-b507-abb692a48a28",
   "metadata": {},
   "outputs": [],
   "source": []
  },
  {
   "cell_type": "code",
   "execution_count": null,
   "id": "300bc19c-8ddb-4e9d-a480-a10408279a3d",
   "metadata": {},
   "outputs": [],
   "source": []
  },
  {
   "cell_type": "code",
   "execution_count": null,
   "id": "896ccc22-a380-4c9d-8b39-49edc9fe6bb7",
   "metadata": {},
   "outputs": [],
   "source": []
  },
  {
   "cell_type": "code",
   "execution_count": null,
   "id": "a15bb6e6-aad9-4815-8e8c-f8be0a475f76",
   "metadata": {},
   "outputs": [],
   "source": []
  },
  {
   "cell_type": "code",
   "execution_count": null,
   "id": "12e36ff4-d1e7-4e54-9009-696431b99a3d",
   "metadata": {},
   "outputs": [],
   "source": []
  },
  {
   "cell_type": "code",
   "execution_count": null,
   "id": "e576fa0a-87fd-4883-be85-f1dc0c1e0a6b",
   "metadata": {},
   "outputs": [],
   "source": []
  },
  {
   "cell_type": "code",
   "execution_count": null,
   "id": "48a93f79-0097-4c22-ae08-751c6527f7f0",
   "metadata": {},
   "outputs": [],
   "source": []
  },
  {
   "cell_type": "code",
   "execution_count": null,
   "id": "40883389-8de4-4377-9a60-8715427e1c45",
   "metadata": {},
   "outputs": [],
   "source": []
  },
  {
   "cell_type": "code",
   "execution_count": null,
   "id": "0864bb60-9be5-43a3-a1f6-f54e778ef320",
   "metadata": {},
   "outputs": [],
   "source": []
  },
  {
   "cell_type": "code",
   "execution_count": null,
   "id": "e620d9a8-0492-4888-9832-510975713eb0",
   "metadata": {},
   "outputs": [],
   "source": []
  },
  {
   "cell_type": "code",
   "execution_count": null,
   "id": "40ee701f-9d49-4bc7-925d-d56e22268d01",
   "metadata": {},
   "outputs": [],
   "source": []
  },
  {
   "cell_type": "code",
   "execution_count": null,
   "id": "a0f9ac3f-f7c1-44de-bd19-71050cb60cd6",
   "metadata": {},
   "outputs": [],
   "source": []
  },
  {
   "cell_type": "code",
   "execution_count": null,
   "id": "f21facb4-150b-492a-86e1-c0fec9e71c60",
   "metadata": {},
   "outputs": [],
   "source": []
  },
  {
   "cell_type": "code",
   "execution_count": null,
   "id": "a72284c5-4075-4342-af66-5158fb42b27c",
   "metadata": {},
   "outputs": [],
   "source": []
  },
  {
   "cell_type": "code",
   "execution_count": null,
   "id": "1a8669d4-6e5d-4b3c-9196-d6297ae73f34",
   "metadata": {},
   "outputs": [],
   "source": []
  },
  {
   "cell_type": "code",
   "execution_count": null,
   "id": "384fe8a3-0440-4f8b-b38b-4d750dba4a0e",
   "metadata": {},
   "outputs": [],
   "source": []
  }
 ],
 "metadata": {
  "kernelspec": {
   "display_name": "Python 3 (ipykernel)",
   "language": "python",
   "name": "python3"
  },
  "language_info": {
   "codemirror_mode": {
    "name": "ipython",
    "version": 3
   },
   "file_extension": ".py",
   "mimetype": "text/x-python",
   "name": "python",
   "nbconvert_exporter": "python",
   "pygments_lexer": "ipython3",
   "version": "3.9.7"
  }
 },
 "nbformat": 4,
 "nbformat_minor": 5
}
