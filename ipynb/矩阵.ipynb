{
 "cells": [
  {
   "cell_type": "code",
   "execution_count": 20,
   "id": "aa3cf0b0-6440-4eb7-8fac-081be7ea249f",
   "metadata": {},
   "outputs": [],
   "source": [
    "import numpy as np\n",
    "import sympy as sp\n",
    "import xlrd\n",
    "import pandas as pd\n",
    "import matplotlib.pyplot as plt\n",
    "import seaborn as sns"
   ]
  },
  {
   "cell_type": "code",
   "execution_count": 3,
   "id": "cf0cfde2-079e-4789-99d8-2511a1d5ee13",
   "metadata": {},
   "outputs": [
    {
     "data": {
      "text/plain": [
       "[[1, 2, 2, 3], [1, 4, -3, 6], [-2, -6, 1, -9], [1, 4, -1, 7], [4, 8, 2, 9]]"
      ]
     },
     "execution_count": 3,
     "metadata": {},
     "output_type": "execute_result"
    }
   ],
   "source": [
    "A=[[1,2,2,3],[1,4,-3,6],[-2,-6,1,-9],[1,4,-1,7],[4,8,2,9]]#A为数组\n",
    "A"
   ]
  },
  {
   "cell_type": "code",
   "execution_count": 6,
   "id": "3c3fe4fc-e70e-4bae-9f54-2abb85cbaa11",
   "metadata": {},
   "outputs": [
    {
     "data": {
      "text/plain": [
       "array([[ 1,  2,  2,  3],\n",
       "       [ 1,  4, -3,  6],\n",
       "       [-2, -6,  1, -9],\n",
       "       [ 1,  4, -1,  7],\n",
       "       [ 4,  8,  2,  9]])"
      ]
     },
     "execution_count": 6,
     "metadata": {},
     "output_type": "execute_result"
    }
   ],
   "source": [
    "A=np.array(A)\n",
    "A"
   ]
  },
  {
   "cell_type": "code",
   "execution_count": 14,
   "id": "32df3a81-f1be-426c-8c56-8326fc913fc3",
   "metadata": {},
   "outputs": [
    {
     "data": {
      "text/latex": [
       "$\\displaystyle \\left[\\begin{matrix}1 & 2 & 2 & 3\\\\1 & 4 & -3 & 6\\\\-2 & -6 & 1 & -9\\\\1 & 4 & -1 & 7\\\\4 & 8 & 2 & 9\\end{matrix}\\right]$"
      ],
      "text/plain": [
       "Matrix([\n",
       "[ 1,  2,  2,  3],\n",
       "[ 1,  4, -3,  6],\n",
       "[-2, -6,  1, -9],\n",
       "[ 1,  4, -1,  7],\n",
       "[ 4,  8,  2,  9]])"
      ]
     },
     "execution_count": 14,
     "metadata": {},
     "output_type": "execute_result"
    }
   ],
   "source": [
    "B=sp.Matrix(A)\n",
    "B"
   ]
  },
  {
   "cell_type": "code",
   "execution_count": 17,
   "id": "97cbc950-e1b0-4c94-a5dc-79425f5e1472",
   "metadata": {},
   "outputs": [
    {
     "data": {
      "text/plain": [
       "array([[ 1,  1, -2,  1,  4],\n",
       "       [ 2,  4, -6,  4,  8],\n",
       "       [ 2, -3,  1, -1,  2],\n",
       "       [ 3,  6, -9,  7,  9]])"
      ]
     },
     "execution_count": 17,
     "metadata": {},
     "output_type": "execute_result"
    }
   ],
   "source": [
    "A=A.T\n",
    "A"
   ]
  },
  {
   "cell_type": "code",
   "execution_count": 18,
   "id": "c3fecf36-3eb0-4554-830e-bf8856cb714c",
   "metadata": {},
   "outputs": [
    {
     "data": {
      "text/latex": [
       "$\\displaystyle \\left[\\begin{matrix}1 & 1 & -2 & 1 & 4\\\\2 & 4 & -6 & 4 & 8\\\\2 & -3 & 1 & -1 & 2\\\\3 & 6 & -9 & 7 & 9\\end{matrix}\\right]$"
      ],
      "text/plain": [
       "Matrix([\n",
       "[1,  1, -2,  1, 4],\n",
       "[2,  4, -6,  4, 8],\n",
       "[2, -3,  1, -1, 2],\n",
       "[3,  6, -9,  7, 9]])"
      ]
     },
     "execution_count": 18,
     "metadata": {},
     "output_type": "execute_result"
    }
   ],
   "source": [
    "B=B.T\n",
    "B"
   ]
  },
  {
   "cell_type": "code",
   "execution_count": 19,
   "id": "4fdc9d39-d8f3-4262-996e-4aae36cf64db",
   "metadata": {},
   "outputs": [
    {
     "data": {
      "text/plain": [
       "(Matrix([\n",
       " [1, 0, -1, 0,  4],\n",
       " [0, 1, -1, 0,  3],\n",
       " [0, 0,  0, 1, -3],\n",
       " [0, 0,  0, 0,  0]]),\n",
       " (0, 1, 3))"
      ]
     },
     "execution_count": 19,
     "metadata": {},
     "output_type": "execute_result"
    }
   ],
   "source": [
    "B.rref()"
   ]
  },
  {
   "cell_type": "markdown",
   "id": "5614a5e0-eec2-4430-b021-567a8ed172e6",
   "metadata": {},
   "source": [
    "A为方阵时，可用np.linalg.eigvals(A)求特征值，  不为时用奇异值分解"
   ]
  },
  {
   "cell_type": "code",
   "execution_count": 22,
   "id": "b7e8d66c-88bc-4082-b4d0-e89dcbb3961a",
   "metadata": {},
   "outputs": [
    {
     "data": {
      "text/plain": [
       "array([8, 8, -16, 11, 23], dtype=object)"
      ]
     },
     "execution_count": 22,
     "metadata": {},
     "output_type": "execute_result"
    }
   ],
   "source": [
    "np.sum(B,axis=0)"
   ]
  },
  {
   "cell_type": "code",
   "execution_count": null,
   "id": "359fe2a6-89ed-45cf-a2c9-26808df7de69",
   "metadata": {},
   "outputs": [],
   "source": []
  },
  {
   "cell_type": "code",
   "execution_count": null,
   "id": "f90246fb-0597-4dde-8c27-cab2a777463f",
   "metadata": {},
   "outputs": [],
   "source": []
  },
  {
   "cell_type": "code",
   "execution_count": null,
   "id": "9a6f8855-ec9b-4e9c-b614-f7f19bce870a",
   "metadata": {},
   "outputs": [],
   "source": []
  },
  {
   "cell_type": "code",
   "execution_count": null,
   "id": "9c8d2238-0076-4756-9124-7543fead8813",
   "metadata": {},
   "outputs": [],
   "source": []
  },
  {
   "cell_type": "code",
   "execution_count": null,
   "id": "9f00563a-21ac-4a88-a85d-412060264b22",
   "metadata": {},
   "outputs": [],
   "source": []
  },
  {
   "cell_type": "code",
   "execution_count": null,
   "id": "29d3fa27-17c4-43b8-83a0-bf7f9326487d",
   "metadata": {},
   "outputs": [],
   "source": []
  },
  {
   "cell_type": "code",
   "execution_count": null,
   "id": "d8880916-7eed-4635-8bc2-41712c585285",
   "metadata": {},
   "outputs": [],
   "source": []
  },
  {
   "cell_type": "code",
   "execution_count": null,
   "id": "29ef7bb1-aa3a-4dc8-99b1-2d4b9f6a409b",
   "metadata": {},
   "outputs": [],
   "source": []
  },
  {
   "cell_type": "code",
   "execution_count": null,
   "id": "4eca30cf-6bc0-4cea-8e71-af3dbb7c5d91",
   "metadata": {},
   "outputs": [],
   "source": []
  },
  {
   "cell_type": "code",
   "execution_count": null,
   "id": "d41aadd9-a638-420a-8a6f-234fbd8b5fdd",
   "metadata": {},
   "outputs": [],
   "source": []
  },
  {
   "cell_type": "code",
   "execution_count": null,
   "id": "331e64ae-dabe-46e9-aa6e-f38b82c25b09",
   "metadata": {},
   "outputs": [],
   "source": []
  },
  {
   "cell_type": "code",
   "execution_count": null,
   "id": "a38170aa-164d-4b89-87c2-ee89ddbeecb5",
   "metadata": {},
   "outputs": [],
   "source": []
  },
  {
   "cell_type": "code",
   "execution_count": null,
   "id": "183f6440-7b0f-485a-b490-08d51ccdb1c5",
   "metadata": {},
   "outputs": [],
   "source": []
  },
  {
   "cell_type": "code",
   "execution_count": null,
   "id": "b9f0429b-666f-454a-8977-b0298dff5464",
   "metadata": {},
   "outputs": [],
   "source": []
  },
  {
   "cell_type": "code",
   "execution_count": null,
   "id": "73b4e932-bdf5-4ac2-b240-92bf5d50f9c4",
   "metadata": {},
   "outputs": [],
   "source": []
  },
  {
   "cell_type": "code",
   "execution_count": null,
   "id": "38d8ddf7-284d-4f1c-add4-a0bf80b429d9",
   "metadata": {},
   "outputs": [],
   "source": []
  }
 ],
 "metadata": {
  "kernelspec": {
   "display_name": "Python 3 (ipykernel)",
   "language": "python",
   "name": "python3"
  },
  "language_info": {
   "codemirror_mode": {
    "name": "ipython",
    "version": 3
   },
   "file_extension": ".py",
   "mimetype": "text/x-python",
   "name": "python",
   "nbconvert_exporter": "python",
   "pygments_lexer": "ipython3",
   "version": "3.9.7"
  }
 },
 "nbformat": 4,
 "nbformat_minor": 5
}
